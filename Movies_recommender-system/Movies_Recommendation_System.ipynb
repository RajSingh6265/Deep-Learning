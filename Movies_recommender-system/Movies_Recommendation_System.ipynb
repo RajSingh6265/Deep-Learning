{
  "nbformat": 4,
  "nbformat_minor": 0,
  "metadata": {
    "colab": {
      "provenance": []
    },
    "kernelspec": {
      "name": "python3",
      "display_name": "Python 3"
    },
    "language_info": {
      "name": "python"
    }
  },
  "cells": [
    {
      "cell_type": "code",
      "execution_count": null,
      "metadata": {
        "id": "Bq1n97UU2_vX"
      },
      "outputs": [],
      "source": [
        "# loading the data\n",
        "import numpy as np\n",
        "import pandas as pd\n",
        "\n",
        "credits = pd.read_csv('/content/tmdb_5000_credits.csv')\n",
        "movies = pd.read_csv('/content/tmdb_5000_movies.csv')\n"
      ]
    },
    {
      "cell_type": "code",
      "source": [
        "movies.shape"
      ],
      "metadata": {
        "colab": {
          "base_uri": "https://localhost:8080/"
        },
        "id": "f5Wmf2GT4M-y",
        "outputId": "4ae0985a-6037-40d2-c309-adcffe004902"
      },
      "execution_count": null,
      "outputs": [
        {
          "output_type": "execute_result",
          "data": {
            "text/plain": [
              "(4803, 20)"
            ]
          },
          "metadata": {},
          "execution_count": 2
        }
      ]
    },
    {
      "cell_type": "code",
      "source": [
        "credits.shape"
      ],
      "metadata": {
        "colab": {
          "base_uri": "https://localhost:8080/"
        },
        "id": "TmNh9Nl94wxb",
        "outputId": "5ca740fc-2223-4f94-8aa2-effaa16f81c2"
      },
      "execution_count": null,
      "outputs": [
        {
          "output_type": "execute_result",
          "data": {
            "text/plain": [
              "(4803, 4)"
            ]
          },
          "metadata": {},
          "execution_count": 3
        }
      ]
    },
    {
      "cell_type": "code",
      "source": [
        "# Data Preprocessing\n",
        "movies = movies.merge(credits,on='title')\n",
        "movies.shape"
      ],
      "metadata": {
        "colab": {
          "base_uri": "https://localhost:8080/"
        },
        "id": "2S9VuFuI5roG",
        "outputId": "ce1d9bf9-426d-4882-e6cf-d99aa82dbebf"
      },
      "execution_count": null,
      "outputs": [
        {
          "output_type": "execute_result",
          "data": {
            "text/plain": [
              "(4809, 23)"
            ]
          },
          "metadata": {},
          "execution_count": 4
        }
      ]
    },
    {
      "cell_type": "code",
      "source": [
        "movies.shape"
      ],
      "metadata": {
        "colab": {
          "base_uri": "https://localhost:8080/"
        },
        "id": "RERq3VaL8yKj",
        "outputId": "2702d673-0547-4a49-8d4b-ea154a944c4c"
      },
      "execution_count": null,
      "outputs": [
        {
          "output_type": "execute_result",
          "data": {
            "text/plain": [
              "(4809, 23)"
            ]
          },
          "metadata": {},
          "execution_count": 5
        }
      ]
    },
    {
      "cell_type": "code",
      "source": [
        "movies = movies[['id', 'genres', 'keywords', 'title', 'overview', 'cast', 'crew']]\n",
        "movies.shape"
      ],
      "metadata": {
        "colab": {
          "base_uri": "https://localhost:8080/"
        },
        "id": "N1esx2Z181zB",
        "outputId": "8905d799-7363-4fe5-ad9a-47eb0131f142"
      },
      "execution_count": null,
      "outputs": [
        {
          "output_type": "execute_result",
          "data": {
            "text/plain": [
              "(4809, 7)"
            ]
          },
          "metadata": {},
          "execution_count": 6
        }
      ]
    },
    {
      "cell_type": "code",
      "source": [
        "movies.isnull().sum()"
      ],
      "metadata": {
        "colab": {
          "base_uri": "https://localhost:8080/"
        },
        "id": "Yy66SoWF9-AD",
        "outputId": "9f20a369-bd5e-4986-c62b-b14e999af0ba"
      },
      "execution_count": null,
      "outputs": [
        {
          "output_type": "execute_result",
          "data": {
            "text/plain": [
              "id          0\n",
              "genres      0\n",
              "keywords    0\n",
              "title       0\n",
              "overview    3\n",
              "cast        0\n",
              "crew        0\n",
              "dtype: int64"
            ]
          },
          "metadata": {},
          "execution_count": 7
        }
      ]
    },
    {
      "cell_type": "code",
      "source": [
        "movies.dropna(subset=['crew'], inplace=True)"
      ],
      "metadata": {
        "colab": {
          "base_uri": "https://localhost:8080/"
        },
        "id": "7cRX1R2l4zfW",
        "outputId": "b9aaf67d-ac5f-4f7a-946f-52929d1c4f06"
      },
      "execution_count": null,
      "outputs": [
        {
          "output_type": "stream",
          "name": "stderr",
          "text": [
            "<ipython-input-8-fb40c23545ac>:1: SettingWithCopyWarning: \n",
            "A value is trying to be set on a copy of a slice from a DataFrame\n",
            "\n",
            "See the caveats in the documentation: https://pandas.pydata.org/pandas-docs/stable/user_guide/indexing.html#returning-a-view-versus-a-copy\n",
            "  movies.dropna(subset=['crew'], inplace=True)\n"
          ]
        }
      ]
    },
    {
      "cell_type": "code",
      "source": [
        "movies.duplicated().sum()"
      ],
      "metadata": {
        "colab": {
          "base_uri": "https://localhost:8080/"
        },
        "id": "Uar0AMcO-JUL",
        "outputId": "49989e88-ba38-4c41-ca20-b97c98a9cbe2"
      },
      "execution_count": null,
      "outputs": [
        {
          "output_type": "execute_result",
          "data": {
            "text/plain": [
              "0"
            ]
          },
          "metadata": {},
          "execution_count": 9
        }
      ]
    },
    {
      "cell_type": "code",
      "source": [
        "movies.shape"
      ],
      "metadata": {
        "colab": {
          "base_uri": "https://localhost:8080/"
        },
        "id": "4hnJ0mX8EYpQ",
        "outputId": "14de3b78-afd2-4f96-afbe-68bc04fe5c81"
      },
      "execution_count": null,
      "outputs": [
        {
          "output_type": "execute_result",
          "data": {
            "text/plain": [
              "(4809, 7)"
            ]
          },
          "metadata": {},
          "execution_count": 10
        }
      ]
    },
    {
      "cell_type": "code",
      "source": [
        "import ast\n",
        "def convert(obj):\n",
        "  L = []\n",
        "  for i in ast.literal_eval(obj):\n",
        "    L.append(i['name'])\n",
        "  return L"
      ],
      "metadata": {
        "id": "jKC-qLMaCkxL"
      },
      "execution_count": null,
      "outputs": []
    },
    {
      "cell_type": "code",
      "source": [
        "movies['genres'] = movies['genres'].apply(convert)"
      ],
      "metadata": {
        "id": "Xw1FVWzmDGWH"
      },
      "execution_count": null,
      "outputs": []
    },
    {
      "cell_type": "code",
      "source": [
        "movies['keywords'] = movies['keywords'].apply(convert)"
      ],
      "metadata": {
        "id": "2bFXJpJfDTvD"
      },
      "execution_count": null,
      "outputs": []
    },
    {
      "cell_type": "code",
      "source": [
        "def convert1(obj):\n",
        "  L = []\n",
        "  count = 0\n",
        "  for i in ast.literal_eval(obj):\n",
        "    if count != 3:\n",
        "      L.append(i['name'])\n",
        "      count +=1\n",
        "\n",
        "    else:\n",
        "      break\n",
        "  return L"
      ],
      "metadata": {
        "id": "7rOFSCkSEQbV"
      },
      "execution_count": null,
      "outputs": []
    },
    {
      "cell_type": "code",
      "source": [
        "movies['cast']"
      ],
      "metadata": {
        "id": "IS8uyT5PEg5f",
        "colab": {
          "base_uri": "https://localhost:8080/"
        },
        "outputId": "ce6283b6-9ae4-48ee-c88a-abb4cf2656cd"
      },
      "execution_count": null,
      "outputs": [
        {
          "output_type": "execute_result",
          "data": {
            "text/plain": [
              "0       [{\"cast_id\": 242, \"character\": \"Jake Sully\", \"...\n",
              "1       [{\"cast_id\": 4, \"character\": \"Captain Jack Spa...\n",
              "2       [{\"cast_id\": 1, \"character\": \"James Bond\", \"cr...\n",
              "3       [{\"cast_id\": 2, \"character\": \"Bruce Wayne / Ba...\n",
              "4       [{\"cast_id\": 5, \"character\": \"John Carter\", \"c...\n",
              "                              ...                        \n",
              "4804    [{\"cast_id\": 1, \"character\": \"El Mariachi\", \"c...\n",
              "4805    [{\"cast_id\": 1, \"character\": \"Buzzy\", \"credit_...\n",
              "4806    [{\"cast_id\": 8, \"character\": \"Oliver O\\u2019To...\n",
              "4807    [{\"cast_id\": 3, \"character\": \"Sam\", \"credit_id...\n",
              "4808    [{\"cast_id\": 3, \"character\": \"Herself\", \"credi...\n",
              "Name: cast, Length: 4809, dtype: object"
            ]
          },
          "metadata": {},
          "execution_count": 15
        }
      ]
    },
    {
      "cell_type": "code",
      "source": [
        "import ast\n",
        "def fetching_director(obj):\n",
        "    L = []\n",
        "\n",
        "    crew_list = ast.literal_eval(obj)\n",
        "    for i in crew_list:\n",
        "        if i['job'] == 'Director':\n",
        "            L.append(i['name'])\n",
        "            break\n",
        "    return L\n",
        "\n"
      ],
      "metadata": {
        "id": "ihU7VhdtIYBt"
      },
      "execution_count": null,
      "outputs": []
    },
    {
      "cell_type": "code",
      "source": [
        "# Apply the function to the 'crew' column\n",
        "movies['crew'] = movies['crew'].apply(fetching_director)"
      ],
      "metadata": {
        "id": "m30sxVqvJbxM"
      },
      "execution_count": null,
      "outputs": []
    },
    {
      "cell_type": "code",
      "source": [
        "movies['overview'][0]"
      ],
      "metadata": {
        "colab": {
          "base_uri": "https://localhost:8080/",
          "height": 71
        },
        "id": "dn6gUj8jMETr",
        "outputId": "a9a6e6db-786f-43f1-9028-50ef1662e532"
      },
      "execution_count": null,
      "outputs": [
        {
          "output_type": "execute_result",
          "data": {
            "text/plain": [
              "'In the 22nd century, a paraplegic Marine is dispatched to the moon Pandora on a unique mission, but becomes torn between following orders and protecting an alien civilization.'"
            ],
            "application/vnd.google.colaboratory.intrinsic+json": {
              "type": "string"
            }
          },
          "metadata": {},
          "execution_count": 18
        }
      ]
    },
    {
      "cell_type": "code",
      "source": [
        "def safe_split(x):\n",
        "    if isinstance(x, str):\n",
        "        return x.split()\n",
        "    else:\n",
        "        return x\n",
        "\n",
        "movies['overview'] = movies['overview'].apply(safe_split)"
      ],
      "metadata": {
        "id": "l990QscaLNQd"
      },
      "execution_count": null,
      "outputs": []
    },
    {
      "cell_type": "code",
      "source": [
        "movies['overview']"
      ],
      "metadata": {
        "colab": {
          "base_uri": "https://localhost:8080/"
        },
        "id": "Haq3uCR1Nd-f",
        "outputId": "7413d14f-279a-438a-821c-b544246466fd"
      },
      "execution_count": null,
      "outputs": [
        {
          "output_type": "execute_result",
          "data": {
            "text/plain": [
              "0       [In, the, 22nd, century,, a, paraplegic, Marin...\n",
              "1       [Captain, Barbossa,, long, believed, to, be, d...\n",
              "2       [A, cryptic, message, from, Bond’s, past, send...\n",
              "3       [Following, the, death, of, District, Attorney...\n",
              "4       [John, Carter, is, a, war-weary,, former, mili...\n",
              "                              ...                        \n",
              "4804    [El, Mariachi, just, wants, to, play, his, gui...\n",
              "4805    [A, newlywed, couple's, honeymoon, is, upended...\n",
              "4806    [\"Signed,, Sealed,, Delivered\", introduces, a,...\n",
              "4807    [When, ambitious, New, York, attorney, Sam, is...\n",
              "4808    [Ever, since, the, second, grade, when, he, fi...\n",
              "Name: overview, Length: 4809, dtype: object"
            ]
          },
          "metadata": {},
          "execution_count": 20
        }
      ]
    },
    {
      "cell_type": "code",
      "source": [
        "movies['genres'] = movies['genres'].apply(lambda x: [i.replace(\" \", \"\") for i in x])\n",
        "movies['keywords'] = movies['keywords'].apply(lambda x: [i.replace(\" \", \"\") for i in x])\n",
        "movies['cast'] = movies['cast'].apply(lambda x: [i.replace(\" \", \"\") for i in x])\n",
        "movies['crew'] = movies['crew'].apply(lambda x: [i.replace(\" \", \"\") for i in x])\n",
        "\n"
      ],
      "metadata": {
        "id": "jxfMws6sNr7d"
      },
      "execution_count": null,
      "outputs": []
    },
    {
      "cell_type": "code",
      "source": [
        "movies['tags'] = movies['overview'] + movies['genres'] + movies['keywords'] + movies['cast'] + movies['crew']"
      ],
      "metadata": {
        "id": "nd8Z1etM1lzn"
      },
      "execution_count": null,
      "outputs": []
    },
    {
      "cell_type": "code",
      "source": [
        "movies['tags']"
      ],
      "metadata": {
        "colab": {
          "base_uri": "https://localhost:8080/"
        },
        "id": "TldROyco5To9",
        "outputId": "b6320f6b-6228-4a37-d72c-093bbad78c44"
      },
      "execution_count": null,
      "outputs": [
        {
          "output_type": "execute_result",
          "data": {
            "text/plain": [
              "0       [In, the, 22nd, century,, a, paraplegic, Marin...\n",
              "1       [Captain, Barbossa,, long, believed, to, be, d...\n",
              "2       [A, cryptic, message, from, Bond’s, past, send...\n",
              "3       [Following, the, death, of, District, Attorney...\n",
              "4       [John, Carter, is, a, war-weary,, former, mili...\n",
              "                              ...                        \n",
              "4804    [El, Mariachi, just, wants, to, play, his, gui...\n",
              "4805    [A, newlywed, couple's, honeymoon, is, upended...\n",
              "4806    [\"Signed,, Sealed,, Delivered\", introduces, a,...\n",
              "4807    [When, ambitious, New, York, attorney, Sam, is...\n",
              "4808    [Ever, since, the, second, grade, when, he, fi...\n",
              "Name: tags, Length: 4809, dtype: object"
            ]
          },
          "metadata": {},
          "execution_count": 23
        }
      ]
    },
    {
      "cell_type": "code",
      "source": [
        "new_df = movies[['id', 'title', 'tags']]\n",
        "new_df"
      ],
      "metadata": {
        "colab": {
          "base_uri": "https://localhost:8080/",
          "height": 597
        },
        "id": "DbkDLmUb5bOi",
        "outputId": "4afa93e6-4b7b-468e-a463-ebcba0a4c3eb"
      },
      "execution_count": null,
      "outputs": [
        {
          "output_type": "execute_result",
          "data": {
            "text/plain": [
              "          id                                     title  \\\n",
              "0      19995                                    Avatar   \n",
              "1        285  Pirates of the Caribbean: At World's End   \n",
              "2     206647                                   Spectre   \n",
              "3      49026                     The Dark Knight Rises   \n",
              "4      49529                               John Carter   \n",
              "...      ...                                       ...   \n",
              "4804    9367                               El Mariachi   \n",
              "4805   72766                                 Newlyweds   \n",
              "4806  231617                 Signed, Sealed, Delivered   \n",
              "4807  126186                          Shanghai Calling   \n",
              "4808   25975                         My Date with Drew   \n",
              "\n",
              "                                                   tags  \n",
              "0     [In, the, 22nd, century,, a, paraplegic, Marin...  \n",
              "1     [Captain, Barbossa,, long, believed, to, be, d...  \n",
              "2     [A, cryptic, message, from, Bond’s, past, send...  \n",
              "3     [Following, the, death, of, District, Attorney...  \n",
              "4     [John, Carter, is, a, war-weary,, former, mili...  \n",
              "...                                                 ...  \n",
              "4804  [El, Mariachi, just, wants, to, play, his, gui...  \n",
              "4805  [A, newlywed, couple's, honeymoon, is, upended...  \n",
              "4806  [\"Signed,, Sealed,, Delivered\", introduces, a,...  \n",
              "4807  [When, ambitious, New, York, attorney, Sam, is...  \n",
              "4808  [Ever, since, the, second, grade, when, he, fi...  \n",
              "\n",
              "[4809 rows x 3 columns]"
            ],
            "text/html": [
              "\n",
              "  <div id=\"df-58a2c7c8-317a-4ab4-9523-3b27bc1726df\" class=\"colab-df-container\">\n",
              "    <div>\n",
              "<style scoped>\n",
              "    .dataframe tbody tr th:only-of-type {\n",
              "        vertical-align: middle;\n",
              "    }\n",
              "\n",
              "    .dataframe tbody tr th {\n",
              "        vertical-align: top;\n",
              "    }\n",
              "\n",
              "    .dataframe thead th {\n",
              "        text-align: right;\n",
              "    }\n",
              "</style>\n",
              "<table border=\"1\" class=\"dataframe\">\n",
              "  <thead>\n",
              "    <tr style=\"text-align: right;\">\n",
              "      <th></th>\n",
              "      <th>id</th>\n",
              "      <th>title</th>\n",
              "      <th>tags</th>\n",
              "    </tr>\n",
              "  </thead>\n",
              "  <tbody>\n",
              "    <tr>\n",
              "      <th>0</th>\n",
              "      <td>19995</td>\n",
              "      <td>Avatar</td>\n",
              "      <td>[In, the, 22nd, century,, a, paraplegic, Marin...</td>\n",
              "    </tr>\n",
              "    <tr>\n",
              "      <th>1</th>\n",
              "      <td>285</td>\n",
              "      <td>Pirates of the Caribbean: At World's End</td>\n",
              "      <td>[Captain, Barbossa,, long, believed, to, be, d...</td>\n",
              "    </tr>\n",
              "    <tr>\n",
              "      <th>2</th>\n",
              "      <td>206647</td>\n",
              "      <td>Spectre</td>\n",
              "      <td>[A, cryptic, message, from, Bond’s, past, send...</td>\n",
              "    </tr>\n",
              "    <tr>\n",
              "      <th>3</th>\n",
              "      <td>49026</td>\n",
              "      <td>The Dark Knight Rises</td>\n",
              "      <td>[Following, the, death, of, District, Attorney...</td>\n",
              "    </tr>\n",
              "    <tr>\n",
              "      <th>4</th>\n",
              "      <td>49529</td>\n",
              "      <td>John Carter</td>\n",
              "      <td>[John, Carter, is, a, war-weary,, former, mili...</td>\n",
              "    </tr>\n",
              "    <tr>\n",
              "      <th>...</th>\n",
              "      <td>...</td>\n",
              "      <td>...</td>\n",
              "      <td>...</td>\n",
              "    </tr>\n",
              "    <tr>\n",
              "      <th>4804</th>\n",
              "      <td>9367</td>\n",
              "      <td>El Mariachi</td>\n",
              "      <td>[El, Mariachi, just, wants, to, play, his, gui...</td>\n",
              "    </tr>\n",
              "    <tr>\n",
              "      <th>4805</th>\n",
              "      <td>72766</td>\n",
              "      <td>Newlyweds</td>\n",
              "      <td>[A, newlywed, couple's, honeymoon, is, upended...</td>\n",
              "    </tr>\n",
              "    <tr>\n",
              "      <th>4806</th>\n",
              "      <td>231617</td>\n",
              "      <td>Signed, Sealed, Delivered</td>\n",
              "      <td>[\"Signed,, Sealed,, Delivered\", introduces, a,...</td>\n",
              "    </tr>\n",
              "    <tr>\n",
              "      <th>4807</th>\n",
              "      <td>126186</td>\n",
              "      <td>Shanghai Calling</td>\n",
              "      <td>[When, ambitious, New, York, attorney, Sam, is...</td>\n",
              "    </tr>\n",
              "    <tr>\n",
              "      <th>4808</th>\n",
              "      <td>25975</td>\n",
              "      <td>My Date with Drew</td>\n",
              "      <td>[Ever, since, the, second, grade, when, he, fi...</td>\n",
              "    </tr>\n",
              "  </tbody>\n",
              "</table>\n",
              "<p>4809 rows × 3 columns</p>\n",
              "</div>\n",
              "    <div class=\"colab-df-buttons\">\n",
              "\n",
              "  <div class=\"colab-df-container\">\n",
              "    <button class=\"colab-df-convert\" onclick=\"convertToInteractive('df-58a2c7c8-317a-4ab4-9523-3b27bc1726df')\"\n",
              "            title=\"Convert this dataframe to an interactive table.\"\n",
              "            style=\"display:none;\">\n",
              "\n",
              "  <svg xmlns=\"http://www.w3.org/2000/svg\" height=\"24px\" viewBox=\"0 -960 960 960\">\n",
              "    <path d=\"M120-120v-720h720v720H120Zm60-500h600v-160H180v160Zm220 220h160v-160H400v160Zm0 220h160v-160H400v160ZM180-400h160v-160H180v160Zm440 0h160v-160H620v160ZM180-180h160v-160H180v160Zm440 0h160v-160H620v160Z\"/>\n",
              "  </svg>\n",
              "    </button>\n",
              "\n",
              "  <style>\n",
              "    .colab-df-container {\n",
              "      display:flex;\n",
              "      gap: 12px;\n",
              "    }\n",
              "\n",
              "    .colab-df-convert {\n",
              "      background-color: #E8F0FE;\n",
              "      border: none;\n",
              "      border-radius: 50%;\n",
              "      cursor: pointer;\n",
              "      display: none;\n",
              "      fill: #1967D2;\n",
              "      height: 32px;\n",
              "      padding: 0 0 0 0;\n",
              "      width: 32px;\n",
              "    }\n",
              "\n",
              "    .colab-df-convert:hover {\n",
              "      background-color: #E2EBFA;\n",
              "      box-shadow: 0px 1px 2px rgba(60, 64, 67, 0.3), 0px 1px 3px 1px rgba(60, 64, 67, 0.15);\n",
              "      fill: #174EA6;\n",
              "    }\n",
              "\n",
              "    .colab-df-buttons div {\n",
              "      margin-bottom: 4px;\n",
              "    }\n",
              "\n",
              "    [theme=dark] .colab-df-convert {\n",
              "      background-color: #3B4455;\n",
              "      fill: #D2E3FC;\n",
              "    }\n",
              "\n",
              "    [theme=dark] .colab-df-convert:hover {\n",
              "      background-color: #434B5C;\n",
              "      box-shadow: 0px 1px 3px 1px rgba(0, 0, 0, 0.15);\n",
              "      filter: drop-shadow(0px 1px 2px rgba(0, 0, 0, 0.3));\n",
              "      fill: #FFFFFF;\n",
              "    }\n",
              "  </style>\n",
              "\n",
              "    <script>\n",
              "      const buttonEl =\n",
              "        document.querySelector('#df-58a2c7c8-317a-4ab4-9523-3b27bc1726df button.colab-df-convert');\n",
              "      buttonEl.style.display =\n",
              "        google.colab.kernel.accessAllowed ? 'block' : 'none';\n",
              "\n",
              "      async function convertToInteractive(key) {\n",
              "        const element = document.querySelector('#df-58a2c7c8-317a-4ab4-9523-3b27bc1726df');\n",
              "        const dataTable =\n",
              "          await google.colab.kernel.invokeFunction('convertToInteractive',\n",
              "                                                    [key], {});\n",
              "        if (!dataTable) return;\n",
              "\n",
              "        const docLinkHtml = 'Like what you see? Visit the ' +\n",
              "          '<a target=\"_blank\" href=https://colab.research.google.com/notebooks/data_table.ipynb>data table notebook</a>'\n",
              "          + ' to learn more about interactive tables.';\n",
              "        element.innerHTML = '';\n",
              "        dataTable['output_type'] = 'display_data';\n",
              "        await google.colab.output.renderOutput(dataTable, element);\n",
              "        const docLink = document.createElement('div');\n",
              "        docLink.innerHTML = docLinkHtml;\n",
              "        element.appendChild(docLink);\n",
              "      }\n",
              "    </script>\n",
              "  </div>\n",
              "\n",
              "\n",
              "<div id=\"df-54534656-cc37-4965-b8a4-676bb39bfead\">\n",
              "  <button class=\"colab-df-quickchart\" onclick=\"quickchart('df-54534656-cc37-4965-b8a4-676bb39bfead')\"\n",
              "            title=\"Suggest charts\"\n",
              "            style=\"display:none;\">\n",
              "\n",
              "<svg xmlns=\"http://www.w3.org/2000/svg\" height=\"24px\"viewBox=\"0 0 24 24\"\n",
              "     width=\"24px\">\n",
              "    <g>\n",
              "        <path d=\"M19 3H5c-1.1 0-2 .9-2 2v14c0 1.1.9 2 2 2h14c1.1 0 2-.9 2-2V5c0-1.1-.9-2-2-2zM9 17H7v-7h2v7zm4 0h-2V7h2v10zm4 0h-2v-4h2v4z\"/>\n",
              "    </g>\n",
              "</svg>\n",
              "  </button>\n",
              "\n",
              "<style>\n",
              "  .colab-df-quickchart {\n",
              "      --bg-color: #E8F0FE;\n",
              "      --fill-color: #1967D2;\n",
              "      --hover-bg-color: #E2EBFA;\n",
              "      --hover-fill-color: #174EA6;\n",
              "      --disabled-fill-color: #AAA;\n",
              "      --disabled-bg-color: #DDD;\n",
              "  }\n",
              "\n",
              "  [theme=dark] .colab-df-quickchart {\n",
              "      --bg-color: #3B4455;\n",
              "      --fill-color: #D2E3FC;\n",
              "      --hover-bg-color: #434B5C;\n",
              "      --hover-fill-color: #FFFFFF;\n",
              "      --disabled-bg-color: #3B4455;\n",
              "      --disabled-fill-color: #666;\n",
              "  }\n",
              "\n",
              "  .colab-df-quickchart {\n",
              "    background-color: var(--bg-color);\n",
              "    border: none;\n",
              "    border-radius: 50%;\n",
              "    cursor: pointer;\n",
              "    display: none;\n",
              "    fill: var(--fill-color);\n",
              "    height: 32px;\n",
              "    padding: 0;\n",
              "    width: 32px;\n",
              "  }\n",
              "\n",
              "  .colab-df-quickchart:hover {\n",
              "    background-color: var(--hover-bg-color);\n",
              "    box-shadow: 0 1px 2px rgba(60, 64, 67, 0.3), 0 1px 3px 1px rgba(60, 64, 67, 0.15);\n",
              "    fill: var(--button-hover-fill-color);\n",
              "  }\n",
              "\n",
              "  .colab-df-quickchart-complete:disabled,\n",
              "  .colab-df-quickchart-complete:disabled:hover {\n",
              "    background-color: var(--disabled-bg-color);\n",
              "    fill: var(--disabled-fill-color);\n",
              "    box-shadow: none;\n",
              "  }\n",
              "\n",
              "  .colab-df-spinner {\n",
              "    border: 2px solid var(--fill-color);\n",
              "    border-color: transparent;\n",
              "    border-bottom-color: var(--fill-color);\n",
              "    animation:\n",
              "      spin 1s steps(1) infinite;\n",
              "  }\n",
              "\n",
              "  @keyframes spin {\n",
              "    0% {\n",
              "      border-color: transparent;\n",
              "      border-bottom-color: var(--fill-color);\n",
              "      border-left-color: var(--fill-color);\n",
              "    }\n",
              "    20% {\n",
              "      border-color: transparent;\n",
              "      border-left-color: var(--fill-color);\n",
              "      border-top-color: var(--fill-color);\n",
              "    }\n",
              "    30% {\n",
              "      border-color: transparent;\n",
              "      border-left-color: var(--fill-color);\n",
              "      border-top-color: var(--fill-color);\n",
              "      border-right-color: var(--fill-color);\n",
              "    }\n",
              "    40% {\n",
              "      border-color: transparent;\n",
              "      border-right-color: var(--fill-color);\n",
              "      border-top-color: var(--fill-color);\n",
              "    }\n",
              "    60% {\n",
              "      border-color: transparent;\n",
              "      border-right-color: var(--fill-color);\n",
              "    }\n",
              "    80% {\n",
              "      border-color: transparent;\n",
              "      border-right-color: var(--fill-color);\n",
              "      border-bottom-color: var(--fill-color);\n",
              "    }\n",
              "    90% {\n",
              "      border-color: transparent;\n",
              "      border-bottom-color: var(--fill-color);\n",
              "    }\n",
              "  }\n",
              "</style>\n",
              "\n",
              "  <script>\n",
              "    async function quickchart(key) {\n",
              "      const quickchartButtonEl =\n",
              "        document.querySelector('#' + key + ' button');\n",
              "      quickchartButtonEl.disabled = true;  // To prevent multiple clicks.\n",
              "      quickchartButtonEl.classList.add('colab-df-spinner');\n",
              "      try {\n",
              "        const charts = await google.colab.kernel.invokeFunction(\n",
              "            'suggestCharts', [key], {});\n",
              "      } catch (error) {\n",
              "        console.error('Error during call to suggestCharts:', error);\n",
              "      }\n",
              "      quickchartButtonEl.classList.remove('colab-df-spinner');\n",
              "      quickchartButtonEl.classList.add('colab-df-quickchart-complete');\n",
              "    }\n",
              "    (() => {\n",
              "      let quickchartButtonEl =\n",
              "        document.querySelector('#df-54534656-cc37-4965-b8a4-676bb39bfead button');\n",
              "      quickchartButtonEl.style.display =\n",
              "        google.colab.kernel.accessAllowed ? 'block' : 'none';\n",
              "    })();\n",
              "  </script>\n",
              "</div>\n",
              "\n",
              "  <div id=\"id_8626c661-cb48-48af-bb44-63de131cc519\">\n",
              "    <style>\n",
              "      .colab-df-generate {\n",
              "        background-color: #E8F0FE;\n",
              "        border: none;\n",
              "        border-radius: 50%;\n",
              "        cursor: pointer;\n",
              "        display: none;\n",
              "        fill: #1967D2;\n",
              "        height: 32px;\n",
              "        padding: 0 0 0 0;\n",
              "        width: 32px;\n",
              "      }\n",
              "\n",
              "      .colab-df-generate:hover {\n",
              "        background-color: #E2EBFA;\n",
              "        box-shadow: 0px 1px 2px rgba(60, 64, 67, 0.3), 0px 1px 3px 1px rgba(60, 64, 67, 0.15);\n",
              "        fill: #174EA6;\n",
              "      }\n",
              "\n",
              "      [theme=dark] .colab-df-generate {\n",
              "        background-color: #3B4455;\n",
              "        fill: #D2E3FC;\n",
              "      }\n",
              "\n",
              "      [theme=dark] .colab-df-generate:hover {\n",
              "        background-color: #434B5C;\n",
              "        box-shadow: 0px 1px 3px 1px rgba(0, 0, 0, 0.15);\n",
              "        filter: drop-shadow(0px 1px 2px rgba(0, 0, 0, 0.3));\n",
              "        fill: #FFFFFF;\n",
              "      }\n",
              "    </style>\n",
              "    <button class=\"colab-df-generate\" onclick=\"generateWithVariable('new_df')\"\n",
              "            title=\"Generate code using this dataframe.\"\n",
              "            style=\"display:none;\">\n",
              "\n",
              "  <svg xmlns=\"http://www.w3.org/2000/svg\" height=\"24px\"viewBox=\"0 0 24 24\"\n",
              "       width=\"24px\">\n",
              "    <path d=\"M7,19H8.4L18.45,9,17,7.55,7,17.6ZM5,21V16.75L18.45,3.32a2,2,0,0,1,2.83,0l1.4,1.43a1.91,1.91,0,0,1,.58,1.4,1.91,1.91,0,0,1-.58,1.4L9.25,21ZM18.45,9,17,7.55Zm-12,3A5.31,5.31,0,0,0,4.9,8.1,5.31,5.31,0,0,0,1,6.5,5.31,5.31,0,0,0,4.9,4.9,5.31,5.31,0,0,0,6.5,1,5.31,5.31,0,0,0,8.1,4.9,5.31,5.31,0,0,0,12,6.5,5.46,5.46,0,0,0,6.5,12Z\"/>\n",
              "  </svg>\n",
              "    </button>\n",
              "    <script>\n",
              "      (() => {\n",
              "      const buttonEl =\n",
              "        document.querySelector('#id_8626c661-cb48-48af-bb44-63de131cc519 button.colab-df-generate');\n",
              "      buttonEl.style.display =\n",
              "        google.colab.kernel.accessAllowed ? 'block' : 'none';\n",
              "\n",
              "      buttonEl.onclick = () => {\n",
              "        google.colab.notebook.generateWithVariable('new_df');\n",
              "      }\n",
              "      })();\n",
              "    </script>\n",
              "  </div>\n",
              "\n",
              "    </div>\n",
              "  </div>\n"
            ],
            "application/vnd.google.colaboratory.intrinsic+json": {
              "type": "dataframe",
              "variable_name": "new_df",
              "summary": "{\n  \"name\": \"new_df\",\n  \"rows\": 4809,\n  \"fields\": [\n    {\n      \"column\": \"id\",\n      \"properties\": {\n        \"dtype\": \"number\",\n        \"std\": 88653,\n        \"min\": 5,\n        \"max\": 459488,\n        \"num_unique_values\": 4803,\n        \"samples\": [\n          8427,\n          15581,\n          2013\n        ],\n        \"semantic_type\": \"\",\n        \"description\": \"\"\n      }\n    },\n    {\n      \"column\": \"title\",\n      \"properties\": {\n        \"dtype\": \"string\",\n        \"num_unique_values\": 4800,\n        \"samples\": [\n          \"I Spy\",\n          \"Who's Your Caddy?\",\n          \"Sleepover\"\n        ],\n        \"semantic_type\": \"\",\n        \"description\": \"\"\n      }\n    },\n    {\n      \"column\": \"tags\",\n      \"properties\": {\n        \"dtype\": \"object\",\n        \"semantic_type\": \"\",\n        \"description\": \"\"\n      }\n    }\n  ]\n}"
            }
          },
          "metadata": {},
          "execution_count": 24
        }
      ]
    },
    {
      "cell_type": "code",
      "source": [
        "new_df['tags'] = new_df['tags'].apply(lambda x: \" \".join(x))\n",
        "new_df.head()"
      ],
      "metadata": {
        "colab": {
          "base_uri": "https://localhost:8080/",
          "height": 333
        },
        "id": "DdMXoEhd5oNt",
        "outputId": "7c98f8e6-47c8-4853-a884-75f21e08d474"
      },
      "execution_count": 41,
      "outputs": [
        {
          "output_type": "stream",
          "name": "stderr",
          "text": [
            "<ipython-input-41-255fe97a2c35>:1: SettingWithCopyWarning: \n",
            "A value is trying to be set on a copy of a slice from a DataFrame.\n",
            "Try using .loc[row_indexer,col_indexer] = value instead\n",
            "\n",
            "See the caveats in the documentation: https://pandas.pydata.org/pandas-docs/stable/user_guide/indexing.html#returning-a-view-versus-a-copy\n",
            "  new_df['tags'] = new_df['tags'].apply(lambda x: \" \".join(x))\n"
          ]
        },
        {
          "output_type": "execute_result",
          "data": {
            "text/plain": [
              "       id                                     title  \\\n",
              "0   19995                                    Avatar   \n",
              "1     285  Pirates of the Caribbean: At World's End   \n",
              "2  206647                                   Spectre   \n",
              "3   49026                     The Dark Knight Rises   \n",
              "4   49529                               John Carter   \n",
              "\n",
              "                                                tags  \n",
              "0  i   n       t   h   e       2   2   n   d     ...  \n",
              "1  c   a   p   t   a   i   n       b   a   r   b ...  \n",
              "2  a       c   r   y   p   t   i   c       m   e ...  \n",
              "3  f   o   l   l   o   w       t   h   e       d ...  \n",
              "4  j   o   h   n       c   a   r   t   e   r     ...  "
            ],
            "text/html": [
              "\n",
              "  <div id=\"df-b4264fe2-b0a3-489a-a658-bd1816d8cb45\" class=\"colab-df-container\">\n",
              "    <div>\n",
              "<style scoped>\n",
              "    .dataframe tbody tr th:only-of-type {\n",
              "        vertical-align: middle;\n",
              "    }\n",
              "\n",
              "    .dataframe tbody tr th {\n",
              "        vertical-align: top;\n",
              "    }\n",
              "\n",
              "    .dataframe thead th {\n",
              "        text-align: right;\n",
              "    }\n",
              "</style>\n",
              "<table border=\"1\" class=\"dataframe\">\n",
              "  <thead>\n",
              "    <tr style=\"text-align: right;\">\n",
              "      <th></th>\n",
              "      <th>id</th>\n",
              "      <th>title</th>\n",
              "      <th>tags</th>\n",
              "    </tr>\n",
              "  </thead>\n",
              "  <tbody>\n",
              "    <tr>\n",
              "      <th>0</th>\n",
              "      <td>19995</td>\n",
              "      <td>Avatar</td>\n",
              "      <td>i   n       t   h   e       2   2   n   d     ...</td>\n",
              "    </tr>\n",
              "    <tr>\n",
              "      <th>1</th>\n",
              "      <td>285</td>\n",
              "      <td>Pirates of the Caribbean: At World's End</td>\n",
              "      <td>c   a   p   t   a   i   n       b   a   r   b ...</td>\n",
              "    </tr>\n",
              "    <tr>\n",
              "      <th>2</th>\n",
              "      <td>206647</td>\n",
              "      <td>Spectre</td>\n",
              "      <td>a       c   r   y   p   t   i   c       m   e ...</td>\n",
              "    </tr>\n",
              "    <tr>\n",
              "      <th>3</th>\n",
              "      <td>49026</td>\n",
              "      <td>The Dark Knight Rises</td>\n",
              "      <td>f   o   l   l   o   w       t   h   e       d ...</td>\n",
              "    </tr>\n",
              "    <tr>\n",
              "      <th>4</th>\n",
              "      <td>49529</td>\n",
              "      <td>John Carter</td>\n",
              "      <td>j   o   h   n       c   a   r   t   e   r     ...</td>\n",
              "    </tr>\n",
              "  </tbody>\n",
              "</table>\n",
              "</div>\n",
              "    <div class=\"colab-df-buttons\">\n",
              "\n",
              "  <div class=\"colab-df-container\">\n",
              "    <button class=\"colab-df-convert\" onclick=\"convertToInteractive('df-b4264fe2-b0a3-489a-a658-bd1816d8cb45')\"\n",
              "            title=\"Convert this dataframe to an interactive table.\"\n",
              "            style=\"display:none;\">\n",
              "\n",
              "  <svg xmlns=\"http://www.w3.org/2000/svg\" height=\"24px\" viewBox=\"0 -960 960 960\">\n",
              "    <path d=\"M120-120v-720h720v720H120Zm60-500h600v-160H180v160Zm220 220h160v-160H400v160Zm0 220h160v-160H400v160ZM180-400h160v-160H180v160Zm440 0h160v-160H620v160ZM180-180h160v-160H180v160Zm440 0h160v-160H620v160Z\"/>\n",
              "  </svg>\n",
              "    </button>\n",
              "\n",
              "  <style>\n",
              "    .colab-df-container {\n",
              "      display:flex;\n",
              "      gap: 12px;\n",
              "    }\n",
              "\n",
              "    .colab-df-convert {\n",
              "      background-color: #E8F0FE;\n",
              "      border: none;\n",
              "      border-radius: 50%;\n",
              "      cursor: pointer;\n",
              "      display: none;\n",
              "      fill: #1967D2;\n",
              "      height: 32px;\n",
              "      padding: 0 0 0 0;\n",
              "      width: 32px;\n",
              "    }\n",
              "\n",
              "    .colab-df-convert:hover {\n",
              "      background-color: #E2EBFA;\n",
              "      box-shadow: 0px 1px 2px rgba(60, 64, 67, 0.3), 0px 1px 3px 1px rgba(60, 64, 67, 0.15);\n",
              "      fill: #174EA6;\n",
              "    }\n",
              "\n",
              "    .colab-df-buttons div {\n",
              "      margin-bottom: 4px;\n",
              "    }\n",
              "\n",
              "    [theme=dark] .colab-df-convert {\n",
              "      background-color: #3B4455;\n",
              "      fill: #D2E3FC;\n",
              "    }\n",
              "\n",
              "    [theme=dark] .colab-df-convert:hover {\n",
              "      background-color: #434B5C;\n",
              "      box-shadow: 0px 1px 3px 1px rgba(0, 0, 0, 0.15);\n",
              "      filter: drop-shadow(0px 1px 2px rgba(0, 0, 0, 0.3));\n",
              "      fill: #FFFFFF;\n",
              "    }\n",
              "  </style>\n",
              "\n",
              "    <script>\n",
              "      const buttonEl =\n",
              "        document.querySelector('#df-b4264fe2-b0a3-489a-a658-bd1816d8cb45 button.colab-df-convert');\n",
              "      buttonEl.style.display =\n",
              "        google.colab.kernel.accessAllowed ? 'block' : 'none';\n",
              "\n",
              "      async function convertToInteractive(key) {\n",
              "        const element = document.querySelector('#df-b4264fe2-b0a3-489a-a658-bd1816d8cb45');\n",
              "        const dataTable =\n",
              "          await google.colab.kernel.invokeFunction('convertToInteractive',\n",
              "                                                    [key], {});\n",
              "        if (!dataTable) return;\n",
              "\n",
              "        const docLinkHtml = 'Like what you see? Visit the ' +\n",
              "          '<a target=\"_blank\" href=https://colab.research.google.com/notebooks/data_table.ipynb>data table notebook</a>'\n",
              "          + ' to learn more about interactive tables.';\n",
              "        element.innerHTML = '';\n",
              "        dataTable['output_type'] = 'display_data';\n",
              "        await google.colab.output.renderOutput(dataTable, element);\n",
              "        const docLink = document.createElement('div');\n",
              "        docLink.innerHTML = docLinkHtml;\n",
              "        element.appendChild(docLink);\n",
              "      }\n",
              "    </script>\n",
              "  </div>\n",
              "\n",
              "\n",
              "<div id=\"df-0897362d-07a2-421e-8449-30e3cd211960\">\n",
              "  <button class=\"colab-df-quickchart\" onclick=\"quickchart('df-0897362d-07a2-421e-8449-30e3cd211960')\"\n",
              "            title=\"Suggest charts\"\n",
              "            style=\"display:none;\">\n",
              "\n",
              "<svg xmlns=\"http://www.w3.org/2000/svg\" height=\"24px\"viewBox=\"0 0 24 24\"\n",
              "     width=\"24px\">\n",
              "    <g>\n",
              "        <path d=\"M19 3H5c-1.1 0-2 .9-2 2v14c0 1.1.9 2 2 2h14c1.1 0 2-.9 2-2V5c0-1.1-.9-2-2-2zM9 17H7v-7h2v7zm4 0h-2V7h2v10zm4 0h-2v-4h2v4z\"/>\n",
              "    </g>\n",
              "</svg>\n",
              "  </button>\n",
              "\n",
              "<style>\n",
              "  .colab-df-quickchart {\n",
              "      --bg-color: #E8F0FE;\n",
              "      --fill-color: #1967D2;\n",
              "      --hover-bg-color: #E2EBFA;\n",
              "      --hover-fill-color: #174EA6;\n",
              "      --disabled-fill-color: #AAA;\n",
              "      --disabled-bg-color: #DDD;\n",
              "  }\n",
              "\n",
              "  [theme=dark] .colab-df-quickchart {\n",
              "      --bg-color: #3B4455;\n",
              "      --fill-color: #D2E3FC;\n",
              "      --hover-bg-color: #434B5C;\n",
              "      --hover-fill-color: #FFFFFF;\n",
              "      --disabled-bg-color: #3B4455;\n",
              "      --disabled-fill-color: #666;\n",
              "  }\n",
              "\n",
              "  .colab-df-quickchart {\n",
              "    background-color: var(--bg-color);\n",
              "    border: none;\n",
              "    border-radius: 50%;\n",
              "    cursor: pointer;\n",
              "    display: none;\n",
              "    fill: var(--fill-color);\n",
              "    height: 32px;\n",
              "    padding: 0;\n",
              "    width: 32px;\n",
              "  }\n",
              "\n",
              "  .colab-df-quickchart:hover {\n",
              "    background-color: var(--hover-bg-color);\n",
              "    box-shadow: 0 1px 2px rgba(60, 64, 67, 0.3), 0 1px 3px 1px rgba(60, 64, 67, 0.15);\n",
              "    fill: var(--button-hover-fill-color);\n",
              "  }\n",
              "\n",
              "  .colab-df-quickchart-complete:disabled,\n",
              "  .colab-df-quickchart-complete:disabled:hover {\n",
              "    background-color: var(--disabled-bg-color);\n",
              "    fill: var(--disabled-fill-color);\n",
              "    box-shadow: none;\n",
              "  }\n",
              "\n",
              "  .colab-df-spinner {\n",
              "    border: 2px solid var(--fill-color);\n",
              "    border-color: transparent;\n",
              "    border-bottom-color: var(--fill-color);\n",
              "    animation:\n",
              "      spin 1s steps(1) infinite;\n",
              "  }\n",
              "\n",
              "  @keyframes spin {\n",
              "    0% {\n",
              "      border-color: transparent;\n",
              "      border-bottom-color: var(--fill-color);\n",
              "      border-left-color: var(--fill-color);\n",
              "    }\n",
              "    20% {\n",
              "      border-color: transparent;\n",
              "      border-left-color: var(--fill-color);\n",
              "      border-top-color: var(--fill-color);\n",
              "    }\n",
              "    30% {\n",
              "      border-color: transparent;\n",
              "      border-left-color: var(--fill-color);\n",
              "      border-top-color: var(--fill-color);\n",
              "      border-right-color: var(--fill-color);\n",
              "    }\n",
              "    40% {\n",
              "      border-color: transparent;\n",
              "      border-right-color: var(--fill-color);\n",
              "      border-top-color: var(--fill-color);\n",
              "    }\n",
              "    60% {\n",
              "      border-color: transparent;\n",
              "      border-right-color: var(--fill-color);\n",
              "    }\n",
              "    80% {\n",
              "      border-color: transparent;\n",
              "      border-right-color: var(--fill-color);\n",
              "      border-bottom-color: var(--fill-color);\n",
              "    }\n",
              "    90% {\n",
              "      border-color: transparent;\n",
              "      border-bottom-color: var(--fill-color);\n",
              "    }\n",
              "  }\n",
              "</style>\n",
              "\n",
              "  <script>\n",
              "    async function quickchart(key) {\n",
              "      const quickchartButtonEl =\n",
              "        document.querySelector('#' + key + ' button');\n",
              "      quickchartButtonEl.disabled = true;  // To prevent multiple clicks.\n",
              "      quickchartButtonEl.classList.add('colab-df-spinner');\n",
              "      try {\n",
              "        const charts = await google.colab.kernel.invokeFunction(\n",
              "            'suggestCharts', [key], {});\n",
              "      } catch (error) {\n",
              "        console.error('Error during call to suggestCharts:', error);\n",
              "      }\n",
              "      quickchartButtonEl.classList.remove('colab-df-spinner');\n",
              "      quickchartButtonEl.classList.add('colab-df-quickchart-complete');\n",
              "    }\n",
              "    (() => {\n",
              "      let quickchartButtonEl =\n",
              "        document.querySelector('#df-0897362d-07a2-421e-8449-30e3cd211960 button');\n",
              "      quickchartButtonEl.style.display =\n",
              "        google.colab.kernel.accessAllowed ? 'block' : 'none';\n",
              "    })();\n",
              "  </script>\n",
              "</div>\n",
              "\n",
              "    </div>\n",
              "  </div>\n"
            ],
            "application/vnd.google.colaboratory.intrinsic+json": {
              "type": "dataframe",
              "variable_name": "new_df",
              "summary": "{\n  \"name\": \"new_df\",\n  \"rows\": 4809,\n  \"fields\": [\n    {\n      \"column\": \"id\",\n      \"properties\": {\n        \"dtype\": \"number\",\n        \"std\": 88653,\n        \"min\": 5,\n        \"max\": 459488,\n        \"num_unique_values\": 4803,\n        \"samples\": [\n          8427,\n          15581,\n          2013\n        ],\n        \"semantic_type\": \"\",\n        \"description\": \"\"\n      }\n    },\n    {\n      \"column\": \"title\",\n      \"properties\": {\n        \"dtype\": \"string\",\n        \"num_unique_values\": 4800,\n        \"samples\": [\n          \"I Spy\",\n          \"Who's Your Caddy?\",\n          \"Sleepover\"\n        ],\n        \"semantic_type\": \"\",\n        \"description\": \"\"\n      }\n    },\n    {\n      \"column\": \"tags\",\n      \"properties\": {\n        \"dtype\": \"string\",\n        \"num_unique_values\": 4807,\n        \"samples\": [\n          \"a   n       e   m   o   t   i   o   n   a   l   l   y   -   b   e   a   t   e   n       m   a   n       w   i   t   h       h   i       y   o   u   n   g       d   a   u   g   h   t   e   r       m   o   v   e       t   o       h   i       a   n   c   e   s   t   r       h   o   m   e       i   n       n   e   w   f   o   u   n   d   l   a   n   d       t   o       r   e   c   l   a   i   m       h   i       l   i   f   e   .       d   r   a   m   a       r   o   m   a   n   c       s   e   x       a   d   u   l   t   e   r   i       b   a   s   e   d   o   n   n   o   v   e   l       f   i   s   h       i   s   o   l       k   i   d   n   a   p       n   e   w   f   o   u   n   d   l   a   n   d       s   u   r   v   i   v       r   e   p   o   r   t       d   r   u   n   k       [       {       \\\"       c       a       s       t       _       i       d       \\\"       :       1       ,       \\\"       c       h       a       r       a       c       t       e       r       \\\"       :       \\\"       q       u       o       y       l       e       \\\"       ,       \\\"       c       r       e       d       i       t       _       i       d       \\\"       :       \\\"       5       2       f       e       4       4       5       1       c       3       a       3       6       8       4       7       f       8       0       8       e       f       a       b       \\\"       ,       \\\"       g       e       n       d       e       r       \\\"       :       2       ,       \\\"       i       d       \\\"       :       1       9       7       9       ,       \\\"       n       a       m       e       \\\"       :       \\\"       k       e       v       i       n       s       p       a       c       e       y       \\\"       ,       \\\"       o       r       d       e       r       \\\"       :       0       }       ,       {       \\\"       c       a       s       t       _       i       d       \\\"       :       2       ,       \\\"       c       h       a       r       a       c       t       e       r       \\\"       :       \\\"       w       a       v       e       y       p       r       o       w       s       e       \\\"       ,       \\\"       c       r       e       d       i       t       _       i       d       \\\"       :       \\\"       5       2       f       e       4       4       5       1       c       3       a       3       6       8       4       7       f       8       0       8       e       f       a       f       \\\"       ,       \\\"       g       e       n       d       e       r       \\\"       :       1       ,       \\\"       i       d       \\\"       :       1       2       3       1       ,       \\\"       n       a       m       e       \\\"       :       \\\"       j       u       l       i       a       n       n       e       m       o       o       r       e       \\\"       ,       \\\"       o       r       d       e       r       \\\"       :       1       }       ,       {       \\\"       c       a       s       t       _       i       d       \\\"       :       3       ,       \\\"       c       h       a       r       a       c       t       e       r       \\\"       :       \\\"       p       e       t       a       l       \\\"       ,       \\\"       c       r       e       d       i       t       _       i       d       \\\"       :       \\\"       5       2       f       e       4       4       5       1       c       3       a       3       6       8       4       7       f       8       0       8       e       f       b       3       \\\"       ,       \\\"       g       e       n       d       e       r       \\\"       :       1       ,       \\\"       i       d       \\\"       :       1       1       2       ,       \\\"       n       a       m       e       \\\"       :       \\\"       c       a       t       e       b       l       a       n       c       h       e       t       t       \\\"       ,       \\\"       o       r       d       e       r       \\\"       :       2       }       ,       {       \\\"       c       a       s       t       _       i       d       \\\"       :       1       1       ,       \\\"       c       h       a       r       a       c       t       e       r       \\\"       :       \\\"       a       g       n       i       s       h       a       m       m       \\\"       ,       \\\"       c       r       e       d       i       t       _       i       d       \\\"       :       \\\"       5       2       f       e       4       4       5       1       c       3       a       3       6       8       4       7       f       8       0       8       e       f       e       1       \\\"       ,       \\\"       g       e       n       d       e       r       \\\"       :       1       ,       \\\"       i       d       \\\"       :       5       3       0       9       ,       \\\"       n       a       m       e       \\\"       :       \\\"       j       u       d       i       d       e       n       c       h       \\\"       ,       \\\"       o       r       d       e       r       \\\"       :       3       }       ,       {       \\\"       c       a       s       t       _       i       d       \\\"       :       1       2       ,       \\\"       c       h       a       r       a       c       t       e       r       \\\"       :       \\\"       t       e       r       t       c       a       r       d       \\\"       ,       \\\"       c       r       e       d       i       t       _       i       d       \\\"       :       \\\"       5       2       f       e       4       4       5       1       c       3       a       3       6       8       4       7       f       8       0       8       e       f       e       5       \\\"       ,       \\\"       g       e       n       d       e       r       \\\"       :       2       ,       \\\"       i       d       \\\"       :       4       9       3       5       ,       \\\"       n       a       m       e       \\\"       :       \\\"       p       e       t       e       p       o       s       t       l       e       t       h       w       a       i       t       e       \\\"       ,       \\\"       o       r       d       e       r       \\\"       :       4       }       ,       {       \\\"       c       a       s       t       _       i       d       \\\"       :       1       3       ,       \\\"       c       h       a       r       a       c       t       e       r       \\\"       :       \\\"       j       a       c       k       b       u       g       g       i       t       \\\"       ,       \\\"       c       r       e       d       i       t       _       i       d       \\\"       :       \\\"       5       2       f       e       4       4       5       1       c       3       a       3       6       8       4       7       f       8       0       8       e       f       e       9       \\\"       ,       \\\"       g       e       n       d       e       r       \\\"       :       2       ,       \\\"       i       d       \\\"       :       3       4       9       ,       \\\"       n       a       m       e       \\\"       :       \\\"       s       c       o       t       t       g       l       e       n       n       \\\"       ,       \\\"       o       r       d       e       r       \\\"       :       5       }       ,       {       \\\"       c       a       s       t       _       i       d       \\\"       :       1       4       ,       \\\"       c       h       a       r       a       c       t       e       r       \\\"       :       \\\"       b       e       a       u       f       i       e       l       d       n       u       t       b       e       e       m       \\\"       ,       \\\"       c       r       e       d       i       t       _       i       d       \\\"       :       \\\"       5       3       e       2       a       a       8       a       c       3       a       3       6       8       4       8       4       d       0       0       1       1       2       e       \\\"       ,       \\\"       g       e       n       d       e       r       \\\"       :       2       ,       \\\"       i       d       \\\"       :       7       0       2       6       ,       \\\"       n       a       m       e       \\\"       :       \\\"       r       h       y       s       i       f       a       n       s       \\\"       ,       \\\"       o       r       d       e       r       \\\"       :       6       }       ,       {       \\\"       c       a       s       t       _       i       d       \\\"       :       1       5       ,       \\\"       c       h       a       r       a       c       t       e       r       \\\"       :       \\\"       b       i       l       l       y       p       r       e       t       t       y       \\\"       ,       \\\"       c       r       e       d       i       t       _       i       d       \\\"       :       \\\"       5       3       e       2       a       a       a       b       c       3       a       3       6       8       4       8       4       a       0       0       1       1       c       4       \\\"       ,       \\\"       g       e       n       d       e       r       \\\"       :       2       ,       \\\"       i       d       \\\"       :       1       3       9       5       0       ,       \\\"       n       a       m       e       \\\"       :       \\\"       g       o       r       d       o       n       p       i       n       s       e       n       t       \\\"       ,       \\\"       o       r       d       e       r       \\\"       :       7       }       ,       {       \\\"       c       a       s       t       _       i       d       \\\"       :       1       6       ,       \\\"       c       h       a       r       a       c       t       e       r       \\\"       :       \\\"       d       e       n       n       i       s       b       u       g       g       i       t       \\\"       ,       \\\"       c       r       e       d       i       t       _       i       d       \\\"       :       \\\"       5       3       e       2       a       a       d       1       c       3       a       3       6       8       4       8       4       d       0       0       1       1       3       4       \\\"       ,       \\\"       g       e       n       d       e       r       \\\"       :       2       ,       \\\"       i       d       \\\"       :       2       0       3       8       6       ,       \\\"       n       a       m       e       \\\"       :       \\\"       j       a       s       o       n       b       e       h       r       \\\"       ,       \\\"       o       r       d       e       r       \\\"       :       8       }       ,       {       \\\"       c       a       s       t       _       i       d       \\\"       :       1       7       ,       \\\"       c       h       a       r       a       c       t       e       r       \\\"       :       \\\"       g       r       a       c       e       m       o       o       s       u       p       \\\"       ,       \\\"       c       r       e       d       i       t       _       i       d       \\\"       :       \\\"       5       3       e       2       a       b       2       0       c       3       a       3       6       8       4       8       4       a       0       0       1       1       c       d       \\\"       ,       \\\"       g       e       n       d       e       r       \\\"       :       1       ,       \\\"       i       d       \\\"       :       1       2       2       2       3       1       ,       \\\"       n       a       m       e       \\\"       :       \\\"       k       a       t       h       e       r       i       n       e       m       o       e       n       n       i       g       \\\"       ,       \\\"       o       r       d       e       r       \\\"       :       9       }       ,       {       \\\"       c       a       s       t       _       i       d       \\\"       :       1       8       ,       \\\"       c       h       a       r       a       c       t       e       r       \\\"       :       \\\"       b       a       y       o       n       e       t       m       e       l       v       i       l       l       e       \\\"       ,       \\\"       c       r       e       d       i       t       _       i       d       \\\"       :       \\\"       5       3       e       2       a       b       7       4       c       3       a       3       6       8       4       8       5       0       0       0       1       0       e       8       \\\"       ,       \\\"       g       e       n       d       e       r       \\\"       :       2       ,       \\\"       i       d       \\\"       :       1       9       5       1       1       ,       \\\"       n       a       m       e       \\\"       :       \\\"       l       a       r       r       y       p       i       n       e       \\\"       ,       \\\"       o       r       d       e       r       \\\"       :       1       0       }       ,       {       \\\"       c       a       s       t       _       i       d       \\\"       :       1       9       ,       \\\"       c       h       a       r       a       c       t       e       r       \\\"       :       \\\"       s       i       l       v       e       r       m       e       l       v       i       l       l       e       \\\"       ,       \\\"       c       r       e       d       i       t       _       i       d       \\\"       :       \\\"       5       4       2       f       5       c       0       8       c       3       a       3       6       8       6       8       6       2       0       0       0       a       d       6       \\\"       ,       \\\"       g       e       n       d       e       r       \\\"       :       1       ,       \\\"       i       d       \\\"       :       2       8       4       2       ,       \\\"       n       a       m       e       \\\"       :       \\\"       j       e       a       n       n       e       t       t       a       a       r       n       e       t       t       e       \\\"       ,       \\\"       o       r       d       e       r       \\\"       :       1       1       }       ]       l   a   s   s   e   h   a   l   l   s   t   r   \\u00f6   m\",\n          \"s   l   a   k   e       a       t   h   i   r   s   t       f   o   r       d   a   n   g   e   r       g   a   m   e   s   ,       k   a   t   h   r   y   n       c   h   a   l   l   e   n   g       h   e   r       s   t   e   p   b   r   o   t   h   e   r   ,       s   e   b   a   s   t   i   a   n   ,       t   o       d   e   f   l   o   w       t   h   e   i   r       h   e   a   d   m   a   s   t   e   r   '       d   a   u   g   h   t   e   r       b   e   f   o   r       t   h   e       s   u   m   m   e   r       e   n   d   s   .       i   f       h   e       s   u   c   c   e   e   d   s   ,       t   h   e       p   r   i   z   e       i   s       t   h   e       c   h   a   n   c       t   o       b   e   d       k   a   t   h   r   y   n   .       b   u   t       i   f       h   e       l   o   s   e   s   ,       k   a   t   h   r   y   n       w   i   l   l       c   l   a   i   m       h   i       m   o   s   t       p   r   i   z   e       p   o   s   s   e   s   s   i   o   n   .       d   r   a   m   a       r   o   m   a   n   c       t   h   r   i   l   l   e   r       u   p   p   e   r   c   l   a   s   s       s   e   x   u   a   l   o   b   s   e   s   s       s   e   x       b   e   t       s   a   d   i   s   t       d   r   u   g   a   b   u   s       b   r   o   t   h   e   r   s   i   s   t   e   r   r   e   l   a   t   i   o   n   s   h   i   p       c   y   n   i   c       c   o   c   a   i   n       v   i   r   g   i   n       m   a   n   i   p   u   l       s   e   d   u   c   t       l   o   v   e   l   e   t   t       p   r   i   v   a   t   e   s   c   h   o   o   l       i   n   n   o   c       a   d   d   i   c   t       l   o   v   e       p   s   y   c   h   o   t   h   e   r   a   p   i       [       {       \\\"       c       a       s       t       _       i       d       \\\"       :       1       ,       \\\"       c       h       a       r       a       c       t       e       r       \\\"       :       \\\"       k       a       t       h       r       y       n       m       e       r       t       e       u       i       l       \\\"       ,       \\\"       c       r       e       d       i       t       _       i       d       \\\"       :       \\\"       5       2       f       e       4       2       7       7       c       3       a       3       6       8       4       7       f       8       0       2       1       0       0       3       \\\"       ,       \\\"       g       e       n       d       e       r       \\\"       :       1       ,       \\\"       i       d       \\\"       :       1       1       8       6       3       ,       \\\"       n       a       m       e       \\\"       :       \\\"       s       a       r       a       h       m       i       c       h       e       l       l       e       g       e       l       l       a       r       \\\"       ,       \\\"       o       r       d       e       r       \\\"       :       0       }       ,       {       \\\"       c       a       s       t       _       i       d       \\\"       :       2       ,       \\\"       c       h       a       r       a       c       t       e       r       \\\"       :       \\\"       s       e       b       a       s       t       i       a       n       v       a       l       m       o       n       t       \\\"       ,       \\\"       c       r       e       d       i       t       _       i       d       \\\"       :       \\\"       5       2       f       e       4       2       7       7       c       3       a       3       6       8       4       7       f       8       0       2       1       0       0       7       \\\"       ,       \\\"       g       e       n       d       e       r       \\\"       :       2       ,       \\\"       i       d       \\\"       :       1       1       8       6       4       ,       \\\"       n       a       m       e       \\\"       :       \\\"       r       y       a       n       p       h       i       l       l       i       p       p       e       \\\"       ,       \\\"       o       r       d       e       r       \\\"       :       1       }       ,       {       \\\"       c       a       s       t       _       i       d       \\\"       :       3       ,       \\\"       c       h       a       r       a       c       t       e       r       \\\"       :       \\\"       a       n       n       e       t       t       e       h       a       r       g       r       o       v       e       \\\"       ,       \\\"       c       r       e       d       i       t       _       i       d       \\\"       :       \\\"       5       2       f       e       4       2       7       7       c       3       a       3       6       8       4       7       f       8       0       2       1       0       0       b       \\\"       ,       \\\"       g       e       n       d       e       r       \\\"       :       1       ,       \\\"       i       d       \\\"       :       3       6       8       ,       \\\"       n       a       m       e       \\\"       :       \\\"       r       e       e       s       e       w       i       t       h       e       r       s       p       o       o       n       \\\"       ,       \\\"       o       r       d       e       r       \\\"       :       2       }       ,       {       \\\"       c       a       s       t       _       i       d       \\\"       :       4       ,       \\\"       c       h       a       r       a       c       t       e       r       \\\"       :       \\\"       c       e       c       i       l       e       c       a       l       d       w       e       l       l       \\\"       ,       \\\"       c       r       e       d       i       t       _       i       d       \\\"       :       \\\"       5       2       f       e       4       2       7       7       c       3       a       3       6       8       4       7       f       8       0       2       1       0       0       f       \\\"       ,       \\\"       g       e       n       d       e       r       \\\"       :       1       ,       \\\"       i       d       \\\"       :       1       1       8       2       6       ,       \\\"       n       a       m       e       \\\"       :       \\\"       s       e       l       m       a       b       l       a       i       r       \\\"       ,       \\\"       o       r       d       e       r       \\\"       :       3       }       ,       {       \\\"       c       a       s       t       _       i       d       \\\"       :       5       ,       \\\"       c       h       a       r       a       c       t       e       r       \\\"       :       \\\"       h       e       l       e       n       r       o       s       e       m       o       n       d       \\\"       ,       \\\"       c       r       e       d       i       t       _       i       d       \\\"       :       \\\"       5       2       f       e       4       2       7       7       c       3       a       3       6       8       4       7       f       8       0       2       1       0       1       3       \\\"       ,       \\\"       g       e       n       d       e       r       \\\"       :       1       ,       \\\"       i       d       \\\"       :       7       0       7       1       ,       \\\"       n       a       m       e       \\\"       :       \\\"       l       o       u       i       s       e       f       l       e       t       c       h       e       r       \\\"       ,       \\\"       o       r       d       e       r       \\\"       :       4       }       ,       {       \\\"       c       a       s       t       _       i       d       \\\"       :       6       ,       \\\"       c       h       a       r       a       c       t       e       r       \\\"       :       \\\"       b       l       a       i       n       e       t       u       t       t       l       e       \\\"       ,       \\\"       c       r       e       d       i       t       _       i       d       \\\"       :       \\\"       5       2       f       e       4       2       7       7       c       3       a       3       6       8       4       7       f       8       0       2       1       0       1       7       \\\"       ,       \\\"       g       e       n       d       e       r       \\\"       :       2       ,       \\\"       i       d       \\\"       :       1       1       8       6       6       ,       \\\"       n       a       m       e       \\\"       :       \\\"       j       o       s       h       u       a       j       a       c       k       s       o       n       \\\"       ,       \\\"       o       r       d       e       r       \\\"       :       5       }       ,       {       \\\"       c       a       s       t       _       i       d       \\\"       :       7       ,       \\\"       c       h       a       r       a       c       t       e       r       \\\"       :       \\\"       g       r       e       g       m       c       c       o       n       n       e       l       l       \\\"       ,       \\\"       c       r       e       d       i       t       _       i       d       \\\"       :       \\\"       5       2       f       e       4       2       7       7       c       3       a       3       6       8       4       7       f       8       0       2       1       0       1       b       \\\"       ,       \\\"       g       e       n       d       e       r       \\\"       :       2       ,       \\\"       i       d       \\\"       :       1       1       8       6       7       ,       \\\"       n       a       m       e       \\\"       :       \\\"       e       r       i       c       m       a       b       i       u       s       \\\"       ,       \\\"       o       r       d       e       r       \\\"       :       6       }       ,       {       \\\"       c       a       s       t       _       i       d       \\\"       :       8       ,       \\\"       c       h       a       r       a       c       t       e       r       \\\"       :       \\\"       r       o       n       a       l       d       c       l       i       f       f       o       r       d       \\\"       ,       \\\"       c       r       e       d       i       t       _       i       d       \\\"       :       \\\"       5       2       f       e       4       2       7       7       c       3       a       3       6       8       4       7       f       8       0       2       1       0       1       f       \\\"       ,       \\\"       g       e       n       d       e       r       \\\"       :       2       ,       \\\"       i       d       \\\"       :       1       1       8       6       8       ,       \\\"       n       a       m       e       \\\"       :       \\\"       s       e       a       n       p       a       t       r       i       c       k       t       h       o       m       a       s       \\\"       ,       \\\"       o       r       d       e       r       \\\"       :       7       }       ,       {       \\\"       c       a       s       t       _       i       d       \\\"       :       1       0       ,       \\\"       c       h       a       r       a       c       t       e       r       \\\"       :       \\\"       b       u       n       n       y       c       a       l       d       w       e       l       l       \\\"       ,       \\\"       c       r       e       d       i       t       _       i       d       \\\"       :       \\\"       5       2       f       e       4       2       7       7       c       3       a       3       6       8       4       7       f       8       0       2       1       0       2       3       \\\"       ,       \\\"       g       e       n       d       e       r       \\\"       :       1       ,       \\\"       i       d       \\\"       :       1       1       8       7       0       ,       \\\"       n       a       m       e       \\\"       :       \\\"       c       h       r       i       s       t       i       n       e       b       a       r       a       n       s       k       i       \\\"       ,       \\\"       o       r       d       e       r       \\\"       :       8       }       ,       {       \\\"       c       a       s       t       _       i       d       \\\"       :       1       1       ,       \\\"       c       h       a       r       a       c       t       e       r       \\\"       :       \\\"       n       u       r       s       e       \\\"       ,       \\\"       c       r       e       d       i       t       _       i       d       \\\"       :       \\\"       5       2       f       e       4       2       7       7       c       3       a       3       6       8       4       7       f       8       0       2       1       0       2       7       \\\"       ,       \\\"       g       e       n       d       e       r       \\\"       :       1       ,       \\\"       i       d       \\\"       :       1       1       8       7       1       ,       \\\"       n       a       m       e       \\\"       :       \\\"       a       l       a       i       n       a       r       e       e       d       h       a       l       l       \\\"       ,       \\\"       o       r       d       e       r       \\\"       :       9       }       ,       {       \\\"       c       a       s       t       _       i       d       \\\"       :       1       2       ,       \\\"       c       h       a       r       a       c       t       e       r       \\\"       :       \\\"       m       r       s       .       m       i       c       h       a       l       a       k       \\\"       ,       \\\"       c       r       e       d       i       t       _       i       d       \\\"       :       \\\"       5       2       f       e       4       2       7       7       c       3       a       3       6       8       4       7       f       8       0       2       1       0       2       b       \\\"       ,       \\\"       g       e       n       d       e       r       \\\"       :       1       ,       \\\"       i       d       \\\"       :       1       1       8       7       2       ,       \\\"       n       a       m       e       \\\"       :       \\\"       d       e       b       o       r       a       h       o       f       f       n       e       r       \\\"       ,       \\\"       o       r       d       e       r       \\\"       :       1       0       }       ,       {       \\\"       c       a       s       t       _       i       d       \\\"       :       1       3       ,       \\\"       c       h       a       r       a       c       t       e       r       \\\"       :       \\\"       m       a       r       c       i       g       r       e       e       n       b       a       u       m       \\\"       ,       \\\"       c       r       e       d       i       t       _       i       d       \\\"       :       \\\"       5       2       f       e       4       2       7       7       c       3       a       3       6       8       4       7       f       8       0       2       1       0       2       f       \\\"       ,       \\\"       g       e       n       d       e       r       \\\"       :       1       ,       \\\"       i       d       \\\"       :       1       2       3       4       ,       \\\"       n       a       m       e       \\\"       :       \\\"       t       a       r       a       r       e       i       d       \\\"       ,       \\\"       o       r       d       e       r       \\\"       :       1       1       }       ,       {       \\\"       c       a       s       t       _       i       d       \\\"       :       2       4       ,       \\\"       c       h       a       r       a       c       t       e       r       \\\"       :       \\\"       d       r       .       g       r       e       e       n       b       a       u       m       \\\"       ,       \\\"       c       r       e       d       i       t       _       i       d       \\\"       :       \\\"       5       2       f       e       4       2       7       7       c       3       a       3       6       8       4       7       f       8       0       2       1       0       6       9       \\\"       ,       \\\"       g       e       n       d       e       r       \\\"       :       1       ,       \\\"       i       d       \\\"       :       1       2       9       6       7       ,       \\\"       n       a       m       e       \\\"       :       \\\"       s       w       o       o       s       i       e       k       u       r       t       z       \\\"       ,       \\\"       o       r       d       e       r       \\\"       :       1       2       }       ,       {       \\\"       c       a       s       t       _       i       d       \\\"       :       2       6       ,       \\\"       c       h       a       r       a       c       t       e       r       \\\"       :       \\\"       m       r       s       .       s       u       g       a       r       m       a       n       \\\"       ,       \\\"       c       r       e       d       i       t       _       i       d       \\\"       :       \\\"       5       4       8       9       9       b       9       c       9       2       5       1       4       1       6       1       d       0       0       0       1       7       1       7       \\\"       ,       \\\"       g       e       n       d       e       r       \\\"       :       1       ,       \\\"       i       d       \\\"       :       1       3       6       4       8       2       ,       \\\"       n       a       m       e       \\\"       :       \\\"       h       e       r       t       a       w       a       r       e       \\\"       ,       \\\"       o       r       d       e       r       \\\"       :       1       3       }       ,       {       \\\"       c       a       s       t       _       i       d       \\\"       :       2       7       ,       \\\"       c       h       a       r       a       c       t       e       r       \\\"       :       \\\"       m       a       i       -       l       e       e       \\\"       ,       \\\"       c       r       e       d       i       t       _       i       d       \\\"       :       \\\"       5       4       8       9       9       b       b       1       9       2       5       1       4       1       6       1       d       c       0       0       1       7       a       9       \\\"       ,       \\\"       g       e       n       d       e       r       \\\"       :       1       ,       \\\"       i       d       \\\"       :       1       6       7       1       6       6       ,       \\\"       n       a       m       e       \\\"       :       \\\"       h       i       e       p       t       h       i       l       e       \\\"       ,       \\\"       o       r       d       e       r       \\\"       :       1       4       }       ,       {       \\\"       c       a       s       t       _       i       d       \\\"       :       2       8       ,       \\\"       c       h       a       r       a       c       t       e       r       \\\"       :       \\\"       c       o       u       r       t       r       e       y       n       o       l       d       s       \\\"       ,       \\\"       c       r       e       d       i       t       _       i       d       \\\"       :       \\\"       5       4       8       9       9       b       b       c       9       2       5       1       4       1       6       1       d       5       0       0       1       7       7       e       \\\"       ,       \\\"       g       e       n       d       e       r       \\\"       :       2       ,       \\\"       i       d       \\\"       :       1       2       9       1       2       2       ,       \\\"       n       a       m       e       \\\"       :       \\\"       c       h       a       r       l       i       e       o       '       c       o       n       n       e       l       l       \\\"       ,       \\\"       o       r       d       e       r       \\\"       :       1       5       }       ,       {       \\\"       c       a       s       t       _       i       d       \\\"       :       2       9       ,       \\\"       c       h       a       r       a       c       t       e       r       \\\"       :       \\\"       m       e       t       e       r       m       a       i       d       \\\"       ,       \\\"       c       r       e       d       i       t       _       i       d       \\\"       :       \\\"       5       4       8       9       9       b       f       4       c       3       a       3       6       8       6       f       5       8       0       0       1       7       8       2       \\\"       ,       \\\"       g       e       n       d       e       r       \\\"       :       2       ,       \\\"       i       d       \\\"       :       1       0       4       9       2       0       8       ,       \\\"       n       a       m       e       \\\"       :       \\\"       f       r       e       d       n       o       r       r       i       s       \\\"       ,       \\\"       o       r       d       e       r       \\\"       :       1       6       }       ,       {       \\\"       c       a       s       t       _       i       d       \\\"       :       3       0       ,       \\\"       c       h       a       r       a       c       t       e       r       \\\"       :       \\\"       c       l       o       r       i       s       s       a       \\\"       ,       \\\"       c       r       e       d       i       t       _       i       d       \\\"       :       \\\"       5       4       8       9       9       b       f       e       9       2       5       1       4       1       6       1       d       5       0       0       1       7       8       6       \\\"       ,       \\\"       g       e       n       d       e       r       \\\"       :       0       ,       \\\"       i       d       \\\"       :       1       3       9       5       9       1       1       ,       \\\"       n       a       m       e       \\\"       :       \\\"       g       i       n       g       e       r       w       i       l       l       i       a       m       s       \\\"       ,       \\\"       o       r       d       e       r       \\\"       :       1       7       }       ,       {       \\\"       c       a       s       t       _       i       d       \\\"       :       3       1       ,       \\\"       c       h       a       r       a       c       t       e       r       \\\"       :       \\\"       h       e       a       d       m       a       s       t       e       r       h       a       r       g       r       o       v       e       \\\"       ,       \\\"       c       r       e       d       i       t       _       i       d       \\\"       :       \\\"       5       4       8       9       9       c       0       b       9       2       5       1       4       1       6       1       c       c       0       0       1       7       1       f       \\\"       ,       \\\"       g       e       n       d       e       r       \\\"       :       2       ,       \\\"       i       d       \\\"       :       5       2       1       8       8       ,       \\\"       n       a       m       e       \\\"       :       \\\"       d       r       e       w       s       n       y       d       e       r       \\\"       ,       \\\"       o       r       d       e       r       \\\"       :       1       8       }       ,       {       \\\"       c       a       s       t       _       i       d       \\\"       :       3       2       ,       \\\"       c       h       a       r       a       c       t       e       r       \\\"       :       \\\"       \\\"       ,       \\\"       c       r       e       d       i       t       _       i       d       \\\"       :       \\\"       5       4       8       9       9       c       1       7       9       2       5       1       4       1       6       1       d       3       0       0       1       7       7       3       \\\"       ,       \\\"       g       e       n       d       e       r       \\\"       :       0       ,       \\\"       i       d       \\\"       :       9       4       5       6       1       ,       \\\"       n       a       m       e       \\\"       :       \\\"       p       h       i       l       h       a       w       n       \\\"       ,       \\\"       o       r       d       e       r       \\\"       :       1       9       }       ]       r   o   g   e   r   k   u   m   b   l\",\n          \"c   o   m   b   a   t       h   a       t   a   k   e   n       i   t       t   o   l   l       o   n       r   a   m   b   o   ,       b   u   t       h   e   '       f   i   n   a   l       b   e   g   u   n       t   o       f   i   n   d       i   n   n   e   r       p   e   a   c       i   n       a       m   o   n   a   s   t   e   r   y   .       w   h   e   n       r   a   m   b   o   '       f   r   i   e   n   d       a   n   d       m   e   n   t   o   r       c   o   l   .       t   r   a   u   t   m   a   n       a   s   k       f   o   r       h   i       h   e   l   p       o   n       a       t   o   p       s   e   c   r   e   t       m   i   s   s   i   o   n       t   o       a   f   g   h   a   n   i   s   t   a   n   ,       r   a   m   b   o       d   e   c   l   i   n       b   u   t       m   u   s   t       r   e   c   o   n   s   i   d       w   h   e   n       t   r   a   u   t   m   a   n       i   s       c   a   p   t   u   r   e   d   .       a   c   t   i   o   n       a   d   v   e   n   t   u   r       t   h   r   i   l   l   e   r       w   a   r       c   o   m   p   e   t   i   t       s   u   b   m   a   c   h   i   n   e   g   u   n       s   o   v   i   e   t   u   n   i   o   n       l   i   b   e   r       r   u   s   s   i   a   n       s   o   v   i   e   t   t   r   o   o   p       t   h   a   i   l   a   n   d       f   r   e   e   d   o   m   f   i   g   h   t       a   f   g   h   a   n   i   s   t   a   n       w   a   r   o   n   f   r   e   e   d   o   m       m   a   c   h   i   n   e   g   u   n       m   u   j   a   h   i   d       r   e   a   l   i   t   y   s   h   o   w       w   e   s   t   e   r   n       j   a   p   a   n   e   s   e   f   o   o   d       s   o   a   p   o   p   e   r   a       [       {       \\\"       c       a       s       t       _       i       d       \\\"       :       2       5       ,       \\\"       c       h       a       r       a       c       t       e       r       \\\"       :       \\\"       r       a       m       b       o       \\\"       ,       \\\"       c       r       e       d       i       t       _       i       d       \\\"       :       \\\"       5       2       f       e       4       2       f       0       c       3       a       3       6       8       4       7       f       8       0       2       e       4       3       f       \\\"       ,       \\\"       g       e       n       d       e       r       \\\"       :       2       ,       \\\"       i       d       \\\"       :       1       6       4       8       3       ,       \\\"       n       a       m       e       \\\"       :       \\\"       s       y       l       v       e       s       t       e       r       s       t       a       l       l       o       n       e       \\\"       ,       \\\"       o       r       d       e       r       \\\"       :       0       }       ,       {       \\\"       c       a       s       t       _       i       d       \\\"       :       2       6       ,       \\\"       c       h       a       r       a       c       t       e       r       \\\"       :       \\\"       t       r       a       u       t       m       a       n       \\\"       ,       \\\"       c       r       e       d       i       t       _       i       d       \\\"       :       \\\"       5       2       f       e       4       2       f       0       c       3       a       3       6       8       4       7       f       8       0       2       e       4       4       3       \\\"       ,       \\\"       g       e       n       d       e       r       \\\"       :       2       ,       \\\"       i       d       \\\"       :       1       6       5       5       4       ,       \\\"       n       a       m       e       \\\"       :       \\\"       r       i       c       h       a       r       d       c       r       e       n       n       a       \\\"       ,       \\\"       o       r       d       e       r       \\\"       :       1       }       ,       {       \\\"       c       a       s       t       _       i       d       \\\"       :       2       8       ,       \\\"       c       h       a       r       a       c       t       e       r       \\\"       :       \\\"       g       r       i       g       g       s       \\\"       ,       \\\"       c       r       e       d       i       t       _       i       d       \\\"       :       \\\"       5       2       f       e       4       2       f       0       c       3       a       3       6       8       4       7       f       8       0       2       e       4       4       7       \\\"       ,       \\\"       g       e       n       d       e       r       \\\"       :       2       ,       \\\"       i       d       \\\"       :       2       1       1       5       ,       \\\"       n       a       m       e       \\\"       :       \\\"       k       u       r       t       w       o       o       d       s       m       i       t       h       \\\"       ,       \\\"       o       r       d       e       r       \\\"       :       3       }       ,       {       \\\"       c       a       s       t       _       i       d       \\\"       :       2       9       ,       \\\"       c       h       a       r       a       c       t       e       r       \\\"       :       \\\"       m       a       s       o       u       d       \\\"       ,       \\\"       c       r       e       d       i       t       _       i       d       \\\"       :       \\\"       5       2       f       e       4       2       f       0       c       3       a       3       6       8       4       7       f       8       0       2       e       4       4       b       \\\"       ,       \\\"       g       e       n       d       e       r       \\\"       :       0       ,       \\\"       i       d       \\\"       :       6       7       8       3       ,       \\\"       n       a       m       e       \\\"       :       \\\"       s       p       i       r       o       s       f       o       c       \\\\       u       0       0       e       1       s       \\\"       ,       \\\"       o       r       d       e       r       \\\"       :       4       }       ,       {       \\\"       c       a       s       t       _       i       d       \\\"       :       3       0       ,       \\\"       c       h       a       r       a       c       t       e       r       \\\"       :       \\\"       m       o       u       s       a       \\\"       ,       \\\"       c       r       e       d       i       t       _       i       d       \\\"       :       \\\"       5       2       f       e       4       2       f       0       c       3       a       3       6       8       4       7       f       8       0       2       e       4       4       f       \\\"       ,       \\\"       g       e       n       d       e       r       \\\"       :       2       ,       \\\"       i       d       \\\"       :       1       6       6       0       4       ,       \\\"       n       a       m       e       \\\"       :       \\\"       s       a       s       s       o       n       g       a       b       a       i       \\\"       ,       \\\"       o       r       d       e       r       \\\"       :       5       }       ,       {       \\\"       c       a       s       t       _       i       d       \\\"       :       3       1       ,       \\\"       c       h       a       r       a       c       t       e       r       \\\"       :       \\\"       h       a       m       i       d       \\\"       ,       \\\"       c       r       e       d       i       t       _       i       d       \\\"       :       \\\"       5       2       f       e       4       2       f       0       c       3       a       3       6       8       4       7       f       8       0       2       e       4       5       3       \\\"       ,       \\\"       g       e       n       d       e       r       \\\"       :       0       ,       \\\"       i       d       \\\"       :       1       6       6       0       5       ,       \\\"       n       a       m       e       \\\"       :       \\\"       d       o       u       d       i       s       h       o       u       a       \\\"       ,       \\\"       o       r       d       e       r       \\\"       :       6       }       ,       {       \\\"       c       a       s       t       _       i       d       \\\"       :       3       2       ,       \\\"       c       h       a       r       a       c       t       e       r       \\\"       :       \\\"       k       o       u       r       o       v       \\\"       ,       \\\"       c       r       e       d       i       t       _       i       d       \\\"       :       \\\"       5       2       f       e       4       2       f       0       c       3       a       3       6       8       4       7       f       8       0       2       e       4       5       7       \\\"       ,       \\\"       g       e       n       d       e       r       \\\"       :       2       ,       \\\"       i       d       \\\"       :       1       6       6       0       6       ,       \\\"       n       a       m       e       \\\"       :       \\\"       r       a       n       d       y       r       a       n       e       y       \\\"       ,       \\\"       o       r       d       e       r       \\\"       :       7       }       ,       {       \\\"       c       a       s       t       _       i       d       \\\"       :       3       3       ,       \\\"       c       h       a       r       a       c       t       e       r       \\\"       :       \\\"       t       o       m       a       s       k       \\\"       ,       \\\"       c       r       e       d       i       t       _       i       d       \\\"       :       \\\"       5       2       f       e       4       2       f       0       c       3       a       3       6       8       4       7       f       8       0       2       e       4       5       b       \\\"       ,       \\\"       g       e       n       d       e       r       \\\"       :       2       ,       \\\"       i       d       \\\"       :       1       1       7       6       3       ,       \\\"       n       a       m       e       \\\"       :       \\\"       m       a       r       c       u       s       g       i       l       b       e       r       t       \\\"       ,       \\\"       o       r       d       e       r       \\\"       :       8       }       ,       {       \\\"       c       a       s       t       _       i       d       \\\"       :       3       4       ,       \\\"       c       h       a       r       a       c       t       e       r       \\\"       :       \\\"       n       i       s       s       e       m       \\\"       ,       \\\"       c       r       e       d       i       t       _       i       d       \\\"       :       \\\"       5       2       f       e       4       2       f       0       c       3       a       3       6       8       4       7       f       8       0       2       e       4       5       f       \\\"       ,       \\\"       g       e       n       d       e       r       \\\"       :       2       ,       \\\"       i       d       \\\"       :       1       6       6       0       7       ,       \\\"       n       a       m       e       \\\"       :       \\\"       a       l       o       n       a       b       o       u       t       b       o       u       l       \\\"       ,       \\\"       o       r       d       e       r       \\\"       :       9       }       ,       {       \\\"       c       a       s       t       _       i       d       \\\"       :       3       5       ,       \\\"       c       h       a       r       a       c       t       e       r       \\\"       :       \\\"       r       a       h       i       m       \\\"       ,       \\\"       c       r       e       d       i       t       _       i       d       \\\"       :       \\\"       5       2       f       e       4       2       f       0       c       3       a       3       6       8       4       7       f       8       0       2       e       4       6       3       \\\"       ,       \\\"       g       e       n       d       e       r       \\\"       :       0       ,       \\\"       i       d       \\\"       :       1       6       6       0       8       ,       \\\"       n       a       m       e       \\\"       :       \\\"       m       a       h       m       o       u       d       a       s       s       a       d       o       l       l       a       h       i       \\\"       ,       \\\"       o       r       d       e       r       \\\"       :       1       0       }       ,       {       \\\"       c       a       s       t       _       i       d       \\\"       :       3       6       ,       \\\"       c       h       a       r       a       c       t       e       r       \\\"       :       \\\"       k       h       a       l       i       d       \\\"       ,       \\\"       c       r       e       d       i       t       _       i       d       \\\"       :       \\\"       5       2       f       e       4       2       f       0       c       3       a       3       6       8       4       7       f       8       0       2       e       4       6       7       \\\"       ,       \\\"       g       e       n       d       e       r       \\\"       :       0       ,       \\\"       i       d       \\\"       :       1       6       6       0       9       ,       \\\"       n       a       m       e       \\\"       :       \\\"       j       o       s       e       p       h       s       h       i       l       o       a       c       h       \\\"       ,       \\\"       o       r       d       e       r       \\\"       :       1       1       }       ,       {       \\\"       c       a       s       t       _       i       d       \\\"       :       3       7       ,       \\\"       c       h       a       r       a       c       t       e       r       \\\"       :       \\\"       s       t       i       c       k       f       i       g       h       t       e       r       \\\"       ,       \\\"       c       r       e       d       i       t       _       i       d       \\\"       :       \\\"       5       2       f       e       4       2       f       0       c       3       a       3       6       8       4       7       f       8       0       2       e       4       6       b       \\\"       ,       \\\"       g       e       n       d       e       r       \\\"       :       2       ,       \\\"       i       d       \\\"       :       1       6       6       1       0       ,       \\\"       n       a       m       e       \\\"       :       \\\"       h       a       r       o       l       d       d       i       a       m       o       n       d       \\\"       ,       \\\"       o       r       d       e       r       \\\"       :       1       2       }       ,       {       \\\"       c       a       s       t       _       i       d       \\\"       :       3       8       ,       \\\"       c       h       a       r       a       c       t       e       r       \\\"       :       \\\"       g       u       n       d       e       a       l       e       r       \\\"       ,       \\\"       c       r       e       d       i       t       _       i       d       \\\"       :       \\\"       5       2       f       e       4       2       f       0       c       3       a       3       6       8       4       7       f       8       0       2       e       4       6       f       \\\"       ,       \\\"       g       e       n       d       e       r       \\\"       :       0       ,       \\\"       i       d       \\\"       :       1       6       6       1       1       ,       \\\"       n       a       m       e       \\\"       :       \\\"       m       a       t       t       i       s       e       r       i       \\\"       ,       \\\"       o       r       d       e       r       \\\"       :       1       3       }       ,       {       \\\"       c       a       s       t       _       i       d       \\\"       :       3       9       ,       \\\"       c       h       a       r       a       c       t       e       r       \\\"       :       \\\"       u       r       i       \\\"       ,       \\\"       c       r       e       d       i       t       _       i       d       \\\"       :       \\\"       5       2       f       e       4       2       f       0       c       3       a       3       6       8       4       7       f       8       0       2       e       4       7       3       \\\"       ,       \\\"       g       e       n       d       e       r       \\\"       :       0       ,       \\\"       i       d       \\\"       :       1       6       6       1       2       ,       \\\"       n       a       m       e       \\\"       :       \\\"       s       h       a       b       y       b       e       n       -       a       r       o       y       a       \\\"       ,       \\\"       o       r       d       e       r       \\\"       :       1       4       }       ,       {       \\\"       c       a       s       t       _       i       d       \\\"       :       4       2       ,       \\\"       c       h       a       r       a       c       t       e       r       \\\"       :       \\\"       z       a       y       s       e       n       \\\"       ,       \\\"       c       r       e       d       i       t       _       i       d       \\\"       :       \\\"       5       2       f       e       4       2       f       0       c       3       a       3       6       8       4       7       f       8       0       2       e       4       8       3       \\\"       ,       \\\"       g       e       n       d       e       r       \\\"       :       2       ,       \\\"       i       d       \\\"       :       2       5       5       9       2       3       ,       \\\"       n       a       m       e       \\\"       :       \\\"       m       a       r       c       d       e       j       o       n       g       e       \\\"       ,       \\\"       o       r       d       e       r       \\\"       :       1       5       }       ,       {       \\\"       c       a       s       t       _       i       d       \\\"       :       4       3       ,       \\\"       c       h       a       r       a       c       t       e       r       \\\"       :       \\\"       h       e       l       i       c       o       p       t       e       r       p       e       r       s       o       n       \\\"       ,       \\\"       c       r       e       d       i       t       _       i       d       \\\"       :       \\\"       5       9       1       3       c       2       e       1       9       2       5       1       4       1       5       8       3       c       0       0       2       e       5       5       \\\"       ,       \\\"       g       e       n       d       e       r       \\\"       :       0       ,       \\\"       i       d       \\\"       :       1       1       5       6       4       3       6       ,       \\\"       n       a       m       e       \\\"       :       \\\"       t       i       k       v       a       a       z       i       z       \\\"       ,       \\\"       o       r       d       e       r       \\\"       :       1       6       }       ]       p   e   t   e   r   m   a   c   d   o   n   a   l   d\"\n        ],\n        \"semantic_type\": \"\",\n        \"description\": \"\"\n      }\n    }\n  ]\n}"
            }
          },
          "metadata": {},
          "execution_count": 41
        }
      ]
    },
    {
      "cell_type": "code",
      "source": [
        "new_df['tags'] = new_df['tags'].apply(lambda x:x.lower())"
      ],
      "metadata": {
        "colab": {
          "base_uri": "https://localhost:8080/"
        },
        "id": "_bUKsiqw6KqY",
        "outputId": "0e7fd8e1-f158-4d87-9a42-38c15c87a643"
      },
      "execution_count": null,
      "outputs": [
        {
          "output_type": "stream",
          "name": "stderr",
          "text": [
            "<ipython-input-28-8b60b591a07f>:1: SettingWithCopyWarning: \n",
            "A value is trying to be set on a copy of a slice from a DataFrame.\n",
            "Try using .loc[row_indexer,col_indexer] = value instead\n",
            "\n",
            "See the caveats in the documentation: https://pandas.pydata.org/pandas-docs/stable/user_guide/indexing.html#returning-a-view-versus-a-copy\n",
            "  new_df['tags'] = new_df['tags'].apply(lambda x:x.lower())\n"
          ]
        }
      ]
    },
    {
      "cell_type": "code",
      "source": [
        "from nltk.stem import PorterStemmer\n",
        "ps = PorterStemmer()\n",
        "\n",
        "def stem(text):\n",
        "  y = []\n",
        "  for i in text.split():\n",
        "    y.append(ps.stem(i))\n",
        "\n",
        "  return \" \".join(y)\n",
        "\n",
        "new_df['tags'] = new_df['tags'].apply(stem)\n"
      ],
      "metadata": {
        "colab": {
          "base_uri": "https://localhost:8080/"
        },
        "id": "XOheIT_VC2mU",
        "outputId": "9ac017fe-d018-4cae-fee7-3dc20e7315bf"
      },
      "execution_count": null,
      "outputs": [
        {
          "output_type": "stream",
          "name": "stderr",
          "text": [
            "<ipython-input-29-f27fa97fe06b>:11: SettingWithCopyWarning: \n",
            "A value is trying to be set on a copy of a slice from a DataFrame.\n",
            "Try using .loc[row_indexer,col_indexer] = value instead\n",
            "\n",
            "See the caveats in the documentation: https://pandas.pydata.org/pandas-docs/stable/user_guide/indexing.html#returning-a-view-versus-a-copy\n",
            "  new_df['tags'] = new_df['tags'].apply(stem)\n"
          ]
        }
      ]
    },
    {
      "cell_type": "code",
      "source": [
        "# vectorization\n",
        "from sklearn.feature_extraction.text import CountVectorizer\n",
        "cv = CountVectorizer(stop_words = 'english', max_features = 5000)"
      ],
      "metadata": {
        "id": "L12nlaCl6SmA"
      },
      "execution_count": null,
      "outputs": []
    },
    {
      "cell_type": "code",
      "source": [
        "vectors = cv.fit_transform(new_df['tags']).toarray()"
      ],
      "metadata": {
        "id": "dAOfvRXp9w9o"
      },
      "execution_count": null,
      "outputs": []
    },
    {
      "cell_type": "code",
      "source": [
        "from sklearn.metrics.pairwise import cosine_similarity\n",
        "cosine_similarity(vectors)\n",
        "\n"
      ],
      "metadata": {
        "colab": {
          "base_uri": "https://localhost:8080/"
        },
        "id": "doRwkWMNDAhj",
        "outputId": "0e648421-f408-4fc8-ecc5-47fc074cb022"
      },
      "execution_count": null,
      "outputs": [
        {
          "output_type": "execute_result",
          "data": {
            "text/plain": [
              "array([[1.        , 0.08980265, 0.08980265, ..., 0.04622502, 0.        ,\n",
              "        0.        ],\n",
              "       [0.08980265, 1.        , 0.06451613, ..., 0.02490677, 0.        ,\n",
              "        0.0277137 ],\n",
              "       [0.08980265, 0.06451613, 1.        , ..., 0.02490677, 0.        ,\n",
              "        0.        ],\n",
              "       ...,\n",
              "       [0.04622502, 0.02490677, 0.02490677, ..., 1.        , 0.03962144,\n",
              "        0.04279605],\n",
              "       [0.        , 0.        , 0.        , ..., 0.03962144, 1.        ,\n",
              "        0.08817334],\n",
              "       [0.        , 0.0277137 , 0.        , ..., 0.04279605, 0.08817334,\n",
              "        1.        ]])"
            ]
          },
          "metadata": {},
          "execution_count": 33
        }
      ]
    },
    {
      "cell_type": "code",
      "source": [
        "similarity  = cosine_similarity(vectors)"
      ],
      "metadata": {
        "id": "a232dIGkEFYW"
      },
      "execution_count": null,
      "outputs": []
    },
    {
      "cell_type": "code",
      "source": [
        "def recommend(movie):\n",
        "    index = new_df[new_df['title'] == movie].index[0]\n",
        "    distances = sorted(list(enumerate(similarity[index])),reverse=True,key = lambda x: x[1])\n",
        "    for i in distances[1:6]:\n",
        "        print(new_df.iloc[i[0]].title)\n",
        ""
      ],
      "metadata": {
        "id": "Mfqohg-5cVEs"
      },
      "execution_count": 49,
      "outputs": []
    },
    {
      "cell_type": "code",
      "source": [
        "recommend('Batman Begins')"
      ],
      "metadata": {
        "colab": {
          "base_uri": "https://localhost:8080/"
        },
        "id": "oOqKd3x-eIjl",
        "outputId": "015280ec-f255-4d60-ff1a-79b2f10c8bb3"
      },
      "execution_count": 50,
      "outputs": [
        {
          "output_type": "stream",
          "name": "stdout",
          "text": [
            "The Dark Knight\n",
            "Batman\n",
            "Batman\n",
            "10th & Wolf\n",
            "Synecdoche, New York\n"
          ]
        }
      ]
    },
    {
      "cell_type": "code",
      "source": [
        "import pickle\n",
        "pickle.dump(new_df,open('movie_list.pkl','wb'))\n",
        "pickle.dump(similarity,open('similarity.pkl','wb'))"
      ],
      "metadata": {
        "id": "f6kkUIQZyW2F"
      },
      "execution_count": 52,
      "outputs": []
    },
    {
      "cell_type": "code",
      "source": [
        "new_df"
      ],
      "metadata": {
        "colab": {
          "base_uri": "https://localhost:8080/",
          "height": 423
        },
        "id": "tNgaqovxrQgl",
        "outputId": "5c6e4fdd-580e-4b2c-a917-45ad18356c4e"
      },
      "execution_count": 53,
      "outputs": [
        {
          "output_type": "execute_result",
          "data": {
            "text/plain": [
              "          id                                     title  \\\n",
              "0      19995                                    Avatar   \n",
              "1        285  Pirates of the Caribbean: At World's End   \n",
              "2     206647                                   Spectre   \n",
              "3      49026                     The Dark Knight Rises   \n",
              "4      49529                               John Carter   \n",
              "...      ...                                       ...   \n",
              "4804    9367                               El Mariachi   \n",
              "4805   72766                                 Newlyweds   \n",
              "4806  231617                 Signed, Sealed, Delivered   \n",
              "4807  126186                          Shanghai Calling   \n",
              "4808   25975                         My Date with Drew   \n",
              "\n",
              "                                                   tags  \n",
              "0     i   n       t   h   e       2   2   n   d     ...  \n",
              "1     c   a   p   t   a   i   n       b   a   r   b ...  \n",
              "2     a       c   r   y   p   t   i   c       m   e ...  \n",
              "3     f   o   l   l   o   w       t   h   e       d ...  \n",
              "4     j   o   h   n       c   a   r   t   e   r     ...  \n",
              "...                                                 ...  \n",
              "4804  e   l       m   a   r   i   a   c   h   i     ...  \n",
              "4805  a       n   e   w   l   y   w       c   o   u ...  \n",
              "4806  \"   s   i   g   n   e   d   ,       s   e   a ...  \n",
              "4807  w   h   e   n       a   m   b   i   t   i     ...  \n",
              "4808  e   v   e   r       s   i   n   c       t   h ...  \n",
              "\n",
              "[4809 rows x 3 columns]"
            ],
            "text/html": [
              "\n",
              "  <div id=\"df-bc38e266-e114-46ac-9787-bdbd1a501587\" class=\"colab-df-container\">\n",
              "    <div>\n",
              "<style scoped>\n",
              "    .dataframe tbody tr th:only-of-type {\n",
              "        vertical-align: middle;\n",
              "    }\n",
              "\n",
              "    .dataframe tbody tr th {\n",
              "        vertical-align: top;\n",
              "    }\n",
              "\n",
              "    .dataframe thead th {\n",
              "        text-align: right;\n",
              "    }\n",
              "</style>\n",
              "<table border=\"1\" class=\"dataframe\">\n",
              "  <thead>\n",
              "    <tr style=\"text-align: right;\">\n",
              "      <th></th>\n",
              "      <th>id</th>\n",
              "      <th>title</th>\n",
              "      <th>tags</th>\n",
              "    </tr>\n",
              "  </thead>\n",
              "  <tbody>\n",
              "    <tr>\n",
              "      <th>0</th>\n",
              "      <td>19995</td>\n",
              "      <td>Avatar</td>\n",
              "      <td>i   n       t   h   e       2   2   n   d     ...</td>\n",
              "    </tr>\n",
              "    <tr>\n",
              "      <th>1</th>\n",
              "      <td>285</td>\n",
              "      <td>Pirates of the Caribbean: At World's End</td>\n",
              "      <td>c   a   p   t   a   i   n       b   a   r   b ...</td>\n",
              "    </tr>\n",
              "    <tr>\n",
              "      <th>2</th>\n",
              "      <td>206647</td>\n",
              "      <td>Spectre</td>\n",
              "      <td>a       c   r   y   p   t   i   c       m   e ...</td>\n",
              "    </tr>\n",
              "    <tr>\n",
              "      <th>3</th>\n",
              "      <td>49026</td>\n",
              "      <td>The Dark Knight Rises</td>\n",
              "      <td>f   o   l   l   o   w       t   h   e       d ...</td>\n",
              "    </tr>\n",
              "    <tr>\n",
              "      <th>4</th>\n",
              "      <td>49529</td>\n",
              "      <td>John Carter</td>\n",
              "      <td>j   o   h   n       c   a   r   t   e   r     ...</td>\n",
              "    </tr>\n",
              "    <tr>\n",
              "      <th>...</th>\n",
              "      <td>...</td>\n",
              "      <td>...</td>\n",
              "      <td>...</td>\n",
              "    </tr>\n",
              "    <tr>\n",
              "      <th>4804</th>\n",
              "      <td>9367</td>\n",
              "      <td>El Mariachi</td>\n",
              "      <td>e   l       m   a   r   i   a   c   h   i     ...</td>\n",
              "    </tr>\n",
              "    <tr>\n",
              "      <th>4805</th>\n",
              "      <td>72766</td>\n",
              "      <td>Newlyweds</td>\n",
              "      <td>a       n   e   w   l   y   w       c   o   u ...</td>\n",
              "    </tr>\n",
              "    <tr>\n",
              "      <th>4806</th>\n",
              "      <td>231617</td>\n",
              "      <td>Signed, Sealed, Delivered</td>\n",
              "      <td>\"   s   i   g   n   e   d   ,       s   e   a ...</td>\n",
              "    </tr>\n",
              "    <tr>\n",
              "      <th>4807</th>\n",
              "      <td>126186</td>\n",
              "      <td>Shanghai Calling</td>\n",
              "      <td>w   h   e   n       a   m   b   i   t   i     ...</td>\n",
              "    </tr>\n",
              "    <tr>\n",
              "      <th>4808</th>\n",
              "      <td>25975</td>\n",
              "      <td>My Date with Drew</td>\n",
              "      <td>e   v   e   r       s   i   n   c       t   h ...</td>\n",
              "    </tr>\n",
              "  </tbody>\n",
              "</table>\n",
              "<p>4809 rows × 3 columns</p>\n",
              "</div>\n",
              "    <div class=\"colab-df-buttons\">\n",
              "\n",
              "  <div class=\"colab-df-container\">\n",
              "    <button class=\"colab-df-convert\" onclick=\"convertToInteractive('df-bc38e266-e114-46ac-9787-bdbd1a501587')\"\n",
              "            title=\"Convert this dataframe to an interactive table.\"\n",
              "            style=\"display:none;\">\n",
              "\n",
              "  <svg xmlns=\"http://www.w3.org/2000/svg\" height=\"24px\" viewBox=\"0 -960 960 960\">\n",
              "    <path d=\"M120-120v-720h720v720H120Zm60-500h600v-160H180v160Zm220 220h160v-160H400v160Zm0 220h160v-160H400v160ZM180-400h160v-160H180v160Zm440 0h160v-160H620v160ZM180-180h160v-160H180v160Zm440 0h160v-160H620v160Z\"/>\n",
              "  </svg>\n",
              "    </button>\n",
              "\n",
              "  <style>\n",
              "    .colab-df-container {\n",
              "      display:flex;\n",
              "      gap: 12px;\n",
              "    }\n",
              "\n",
              "    .colab-df-convert {\n",
              "      background-color: #E8F0FE;\n",
              "      border: none;\n",
              "      border-radius: 50%;\n",
              "      cursor: pointer;\n",
              "      display: none;\n",
              "      fill: #1967D2;\n",
              "      height: 32px;\n",
              "      padding: 0 0 0 0;\n",
              "      width: 32px;\n",
              "    }\n",
              "\n",
              "    .colab-df-convert:hover {\n",
              "      background-color: #E2EBFA;\n",
              "      box-shadow: 0px 1px 2px rgba(60, 64, 67, 0.3), 0px 1px 3px 1px rgba(60, 64, 67, 0.15);\n",
              "      fill: #174EA6;\n",
              "    }\n",
              "\n",
              "    .colab-df-buttons div {\n",
              "      margin-bottom: 4px;\n",
              "    }\n",
              "\n",
              "    [theme=dark] .colab-df-convert {\n",
              "      background-color: #3B4455;\n",
              "      fill: #D2E3FC;\n",
              "    }\n",
              "\n",
              "    [theme=dark] .colab-df-convert:hover {\n",
              "      background-color: #434B5C;\n",
              "      box-shadow: 0px 1px 3px 1px rgba(0, 0, 0, 0.15);\n",
              "      filter: drop-shadow(0px 1px 2px rgba(0, 0, 0, 0.3));\n",
              "      fill: #FFFFFF;\n",
              "    }\n",
              "  </style>\n",
              "\n",
              "    <script>\n",
              "      const buttonEl =\n",
              "        document.querySelector('#df-bc38e266-e114-46ac-9787-bdbd1a501587 button.colab-df-convert');\n",
              "      buttonEl.style.display =\n",
              "        google.colab.kernel.accessAllowed ? 'block' : 'none';\n",
              "\n",
              "      async function convertToInteractive(key) {\n",
              "        const element = document.querySelector('#df-bc38e266-e114-46ac-9787-bdbd1a501587');\n",
              "        const dataTable =\n",
              "          await google.colab.kernel.invokeFunction('convertToInteractive',\n",
              "                                                    [key], {});\n",
              "        if (!dataTable) return;\n",
              "\n",
              "        const docLinkHtml = 'Like what you see? Visit the ' +\n",
              "          '<a target=\"_blank\" href=https://colab.research.google.com/notebooks/data_table.ipynb>data table notebook</a>'\n",
              "          + ' to learn more about interactive tables.';\n",
              "        element.innerHTML = '';\n",
              "        dataTable['output_type'] = 'display_data';\n",
              "        await google.colab.output.renderOutput(dataTable, element);\n",
              "        const docLink = document.createElement('div');\n",
              "        docLink.innerHTML = docLinkHtml;\n",
              "        element.appendChild(docLink);\n",
              "      }\n",
              "    </script>\n",
              "  </div>\n",
              "\n",
              "\n",
              "<div id=\"df-91d4c4ff-c337-4f26-b9df-87fb89624b43\">\n",
              "  <button class=\"colab-df-quickchart\" onclick=\"quickchart('df-91d4c4ff-c337-4f26-b9df-87fb89624b43')\"\n",
              "            title=\"Suggest charts\"\n",
              "            style=\"display:none;\">\n",
              "\n",
              "<svg xmlns=\"http://www.w3.org/2000/svg\" height=\"24px\"viewBox=\"0 0 24 24\"\n",
              "     width=\"24px\">\n",
              "    <g>\n",
              "        <path d=\"M19 3H5c-1.1 0-2 .9-2 2v14c0 1.1.9 2 2 2h14c1.1 0 2-.9 2-2V5c0-1.1-.9-2-2-2zM9 17H7v-7h2v7zm4 0h-2V7h2v10zm4 0h-2v-4h2v4z\"/>\n",
              "    </g>\n",
              "</svg>\n",
              "  </button>\n",
              "\n",
              "<style>\n",
              "  .colab-df-quickchart {\n",
              "      --bg-color: #E8F0FE;\n",
              "      --fill-color: #1967D2;\n",
              "      --hover-bg-color: #E2EBFA;\n",
              "      --hover-fill-color: #174EA6;\n",
              "      --disabled-fill-color: #AAA;\n",
              "      --disabled-bg-color: #DDD;\n",
              "  }\n",
              "\n",
              "  [theme=dark] .colab-df-quickchart {\n",
              "      --bg-color: #3B4455;\n",
              "      --fill-color: #D2E3FC;\n",
              "      --hover-bg-color: #434B5C;\n",
              "      --hover-fill-color: #FFFFFF;\n",
              "      --disabled-bg-color: #3B4455;\n",
              "      --disabled-fill-color: #666;\n",
              "  }\n",
              "\n",
              "  .colab-df-quickchart {\n",
              "    background-color: var(--bg-color);\n",
              "    border: none;\n",
              "    border-radius: 50%;\n",
              "    cursor: pointer;\n",
              "    display: none;\n",
              "    fill: var(--fill-color);\n",
              "    height: 32px;\n",
              "    padding: 0;\n",
              "    width: 32px;\n",
              "  }\n",
              "\n",
              "  .colab-df-quickchart:hover {\n",
              "    background-color: var(--hover-bg-color);\n",
              "    box-shadow: 0 1px 2px rgba(60, 64, 67, 0.3), 0 1px 3px 1px rgba(60, 64, 67, 0.15);\n",
              "    fill: var(--button-hover-fill-color);\n",
              "  }\n",
              "\n",
              "  .colab-df-quickchart-complete:disabled,\n",
              "  .colab-df-quickchart-complete:disabled:hover {\n",
              "    background-color: var(--disabled-bg-color);\n",
              "    fill: var(--disabled-fill-color);\n",
              "    box-shadow: none;\n",
              "  }\n",
              "\n",
              "  .colab-df-spinner {\n",
              "    border: 2px solid var(--fill-color);\n",
              "    border-color: transparent;\n",
              "    border-bottom-color: var(--fill-color);\n",
              "    animation:\n",
              "      spin 1s steps(1) infinite;\n",
              "  }\n",
              "\n",
              "  @keyframes spin {\n",
              "    0% {\n",
              "      border-color: transparent;\n",
              "      border-bottom-color: var(--fill-color);\n",
              "      border-left-color: var(--fill-color);\n",
              "    }\n",
              "    20% {\n",
              "      border-color: transparent;\n",
              "      border-left-color: var(--fill-color);\n",
              "      border-top-color: var(--fill-color);\n",
              "    }\n",
              "    30% {\n",
              "      border-color: transparent;\n",
              "      border-left-color: var(--fill-color);\n",
              "      border-top-color: var(--fill-color);\n",
              "      border-right-color: var(--fill-color);\n",
              "    }\n",
              "    40% {\n",
              "      border-color: transparent;\n",
              "      border-right-color: var(--fill-color);\n",
              "      border-top-color: var(--fill-color);\n",
              "    }\n",
              "    60% {\n",
              "      border-color: transparent;\n",
              "      border-right-color: var(--fill-color);\n",
              "    }\n",
              "    80% {\n",
              "      border-color: transparent;\n",
              "      border-right-color: var(--fill-color);\n",
              "      border-bottom-color: var(--fill-color);\n",
              "    }\n",
              "    90% {\n",
              "      border-color: transparent;\n",
              "      border-bottom-color: var(--fill-color);\n",
              "    }\n",
              "  }\n",
              "</style>\n",
              "\n",
              "  <script>\n",
              "    async function quickchart(key) {\n",
              "      const quickchartButtonEl =\n",
              "        document.querySelector('#' + key + ' button');\n",
              "      quickchartButtonEl.disabled = true;  // To prevent multiple clicks.\n",
              "      quickchartButtonEl.classList.add('colab-df-spinner');\n",
              "      try {\n",
              "        const charts = await google.colab.kernel.invokeFunction(\n",
              "            'suggestCharts', [key], {});\n",
              "      } catch (error) {\n",
              "        console.error('Error during call to suggestCharts:', error);\n",
              "      }\n",
              "      quickchartButtonEl.classList.remove('colab-df-spinner');\n",
              "      quickchartButtonEl.classList.add('colab-df-quickchart-complete');\n",
              "    }\n",
              "    (() => {\n",
              "      let quickchartButtonEl =\n",
              "        document.querySelector('#df-91d4c4ff-c337-4f26-b9df-87fb89624b43 button');\n",
              "      quickchartButtonEl.style.display =\n",
              "        google.colab.kernel.accessAllowed ? 'block' : 'none';\n",
              "    })();\n",
              "  </script>\n",
              "</div>\n",
              "\n",
              "  <div id=\"id_339816df-15d4-427e-a524-e511bf31f1bf\">\n",
              "    <style>\n",
              "      .colab-df-generate {\n",
              "        background-color: #E8F0FE;\n",
              "        border: none;\n",
              "        border-radius: 50%;\n",
              "        cursor: pointer;\n",
              "        display: none;\n",
              "        fill: #1967D2;\n",
              "        height: 32px;\n",
              "        padding: 0 0 0 0;\n",
              "        width: 32px;\n",
              "      }\n",
              "\n",
              "      .colab-df-generate:hover {\n",
              "        background-color: #E2EBFA;\n",
              "        box-shadow: 0px 1px 2px rgba(60, 64, 67, 0.3), 0px 1px 3px 1px rgba(60, 64, 67, 0.15);\n",
              "        fill: #174EA6;\n",
              "      }\n",
              "\n",
              "      [theme=dark] .colab-df-generate {\n",
              "        background-color: #3B4455;\n",
              "        fill: #D2E3FC;\n",
              "      }\n",
              "\n",
              "      [theme=dark] .colab-df-generate:hover {\n",
              "        background-color: #434B5C;\n",
              "        box-shadow: 0px 1px 3px 1px rgba(0, 0, 0, 0.15);\n",
              "        filter: drop-shadow(0px 1px 2px rgba(0, 0, 0, 0.3));\n",
              "        fill: #FFFFFF;\n",
              "      }\n",
              "    </style>\n",
              "    <button class=\"colab-df-generate\" onclick=\"generateWithVariable('new_df')\"\n",
              "            title=\"Generate code using this dataframe.\"\n",
              "            style=\"display:none;\">\n",
              "\n",
              "  <svg xmlns=\"http://www.w3.org/2000/svg\" height=\"24px\"viewBox=\"0 0 24 24\"\n",
              "       width=\"24px\">\n",
              "    <path d=\"M7,19H8.4L18.45,9,17,7.55,7,17.6ZM5,21V16.75L18.45,3.32a2,2,0,0,1,2.83,0l1.4,1.43a1.91,1.91,0,0,1,.58,1.4,1.91,1.91,0,0,1-.58,1.4L9.25,21ZM18.45,9,17,7.55Zm-12,3A5.31,5.31,0,0,0,4.9,8.1,5.31,5.31,0,0,0,1,6.5,5.31,5.31,0,0,0,4.9,4.9,5.31,5.31,0,0,0,6.5,1,5.31,5.31,0,0,0,8.1,4.9,5.31,5.31,0,0,0,12,6.5,5.46,5.46,0,0,0,6.5,12Z\"/>\n",
              "  </svg>\n",
              "    </button>\n",
              "    <script>\n",
              "      (() => {\n",
              "      const buttonEl =\n",
              "        document.querySelector('#id_339816df-15d4-427e-a524-e511bf31f1bf button.colab-df-generate');\n",
              "      buttonEl.style.display =\n",
              "        google.colab.kernel.accessAllowed ? 'block' : 'none';\n",
              "\n",
              "      buttonEl.onclick = () => {\n",
              "        google.colab.notebook.generateWithVariable('new_df');\n",
              "      }\n",
              "      })();\n",
              "    </script>\n",
              "  </div>\n",
              "\n",
              "    </div>\n",
              "  </div>\n"
            ],
            "application/vnd.google.colaboratory.intrinsic+json": {
              "type": "dataframe",
              "variable_name": "new_df",
              "summary": "{\n  \"name\": \"new_df\",\n  \"rows\": 4809,\n  \"fields\": [\n    {\n      \"column\": \"id\",\n      \"properties\": {\n        \"dtype\": \"number\",\n        \"std\": 88653,\n        \"min\": 5,\n        \"max\": 459488,\n        \"num_unique_values\": 4803,\n        \"samples\": [\n          8427,\n          15581,\n          2013\n        ],\n        \"semantic_type\": \"\",\n        \"description\": \"\"\n      }\n    },\n    {\n      \"column\": \"title\",\n      \"properties\": {\n        \"dtype\": \"string\",\n        \"num_unique_values\": 4800,\n        \"samples\": [\n          \"I Spy\",\n          \"Who's Your Caddy?\",\n          \"Sleepover\"\n        ],\n        \"semantic_type\": \"\",\n        \"description\": \"\"\n      }\n    },\n    {\n      \"column\": \"tags\",\n      \"properties\": {\n        \"dtype\": \"string\",\n        \"num_unique_values\": 4807,\n        \"samples\": [\n          \"a   n       e   m   o   t   i   o   n   a   l   l   y   -   b   e   a   t   e   n       m   a   n       w   i   t   h       h   i       y   o   u   n   g       d   a   u   g   h   t   e   r       m   o   v   e       t   o       h   i       a   n   c   e   s   t   r       h   o   m   e       i   n       n   e   w   f   o   u   n   d   l   a   n   d       t   o       r   e   c   l   a   i   m       h   i       l   i   f   e   .       d   r   a   m   a       r   o   m   a   n   c       s   e   x       a   d   u   l   t   e   r   i       b   a   s   e   d   o   n   n   o   v   e   l       f   i   s   h       i   s   o   l       k   i   d   n   a   p       n   e   w   f   o   u   n   d   l   a   n   d       s   u   r   v   i   v       r   e   p   o   r   t       d   r   u   n   k       [       {       \\\"       c       a       s       t       _       i       d       \\\"       :       1       ,       \\\"       c       h       a       r       a       c       t       e       r       \\\"       :       \\\"       q       u       o       y       l       e       \\\"       ,       \\\"       c       r       e       d       i       t       _       i       d       \\\"       :       \\\"       5       2       f       e       4       4       5       1       c       3       a       3       6       8       4       7       f       8       0       8       e       f       a       b       \\\"       ,       \\\"       g       e       n       d       e       r       \\\"       :       2       ,       \\\"       i       d       \\\"       :       1       9       7       9       ,       \\\"       n       a       m       e       \\\"       :       \\\"       k       e       v       i       n       s       p       a       c       e       y       \\\"       ,       \\\"       o       r       d       e       r       \\\"       :       0       }       ,       {       \\\"       c       a       s       t       _       i       d       \\\"       :       2       ,       \\\"       c       h       a       r       a       c       t       e       r       \\\"       :       \\\"       w       a       v       e       y       p       r       o       w       s       e       \\\"       ,       \\\"       c       r       e       d       i       t       _       i       d       \\\"       :       \\\"       5       2       f       e       4       4       5       1       c       3       a       3       6       8       4       7       f       8       0       8       e       f       a       f       \\\"       ,       \\\"       g       e       n       d       e       r       \\\"       :       1       ,       \\\"       i       d       \\\"       :       1       2       3       1       ,       \\\"       n       a       m       e       \\\"       :       \\\"       j       u       l       i       a       n       n       e       m       o       o       r       e       \\\"       ,       \\\"       o       r       d       e       r       \\\"       :       1       }       ,       {       \\\"       c       a       s       t       _       i       d       \\\"       :       3       ,       \\\"       c       h       a       r       a       c       t       e       r       \\\"       :       \\\"       p       e       t       a       l       \\\"       ,       \\\"       c       r       e       d       i       t       _       i       d       \\\"       :       \\\"       5       2       f       e       4       4       5       1       c       3       a       3       6       8       4       7       f       8       0       8       e       f       b       3       \\\"       ,       \\\"       g       e       n       d       e       r       \\\"       :       1       ,       \\\"       i       d       \\\"       :       1       1       2       ,       \\\"       n       a       m       e       \\\"       :       \\\"       c       a       t       e       b       l       a       n       c       h       e       t       t       \\\"       ,       \\\"       o       r       d       e       r       \\\"       :       2       }       ,       {       \\\"       c       a       s       t       _       i       d       \\\"       :       1       1       ,       \\\"       c       h       a       r       a       c       t       e       r       \\\"       :       \\\"       a       g       n       i       s       h       a       m       m       \\\"       ,       \\\"       c       r       e       d       i       t       _       i       d       \\\"       :       \\\"       5       2       f       e       4       4       5       1       c       3       a       3       6       8       4       7       f       8       0       8       e       f       e       1       \\\"       ,       \\\"       g       e       n       d       e       r       \\\"       :       1       ,       \\\"       i       d       \\\"       :       5       3       0       9       ,       \\\"       n       a       m       e       \\\"       :       \\\"       j       u       d       i       d       e       n       c       h       \\\"       ,       \\\"       o       r       d       e       r       \\\"       :       3       }       ,       {       \\\"       c       a       s       t       _       i       d       \\\"       :       1       2       ,       \\\"       c       h       a       r       a       c       t       e       r       \\\"       :       \\\"       t       e       r       t       c       a       r       d       \\\"       ,       \\\"       c       r       e       d       i       t       _       i       d       \\\"       :       \\\"       5       2       f       e       4       4       5       1       c       3       a       3       6       8       4       7       f       8       0       8       e       f       e       5       \\\"       ,       \\\"       g       e       n       d       e       r       \\\"       :       2       ,       \\\"       i       d       \\\"       :       4       9       3       5       ,       \\\"       n       a       m       e       \\\"       :       \\\"       p       e       t       e       p       o       s       t       l       e       t       h       w       a       i       t       e       \\\"       ,       \\\"       o       r       d       e       r       \\\"       :       4       }       ,       {       \\\"       c       a       s       t       _       i       d       \\\"       :       1       3       ,       \\\"       c       h       a       r       a       c       t       e       r       \\\"       :       \\\"       j       a       c       k       b       u       g       g       i       t       \\\"       ,       \\\"       c       r       e       d       i       t       _       i       d       \\\"       :       \\\"       5       2       f       e       4       4       5       1       c       3       a       3       6       8       4       7       f       8       0       8       e       f       e       9       \\\"       ,       \\\"       g       e       n       d       e       r       \\\"       :       2       ,       \\\"       i       d       \\\"       :       3       4       9       ,       \\\"       n       a       m       e       \\\"       :       \\\"       s       c       o       t       t       g       l       e       n       n       \\\"       ,       \\\"       o       r       d       e       r       \\\"       :       5       }       ,       {       \\\"       c       a       s       t       _       i       d       \\\"       :       1       4       ,       \\\"       c       h       a       r       a       c       t       e       r       \\\"       :       \\\"       b       e       a       u       f       i       e       l       d       n       u       t       b       e       e       m       \\\"       ,       \\\"       c       r       e       d       i       t       _       i       d       \\\"       :       \\\"       5       3       e       2       a       a       8       a       c       3       a       3       6       8       4       8       4       d       0       0       1       1       2       e       \\\"       ,       \\\"       g       e       n       d       e       r       \\\"       :       2       ,       \\\"       i       d       \\\"       :       7       0       2       6       ,       \\\"       n       a       m       e       \\\"       :       \\\"       r       h       y       s       i       f       a       n       s       \\\"       ,       \\\"       o       r       d       e       r       \\\"       :       6       }       ,       {       \\\"       c       a       s       t       _       i       d       \\\"       :       1       5       ,       \\\"       c       h       a       r       a       c       t       e       r       \\\"       :       \\\"       b       i       l       l       y       p       r       e       t       t       y       \\\"       ,       \\\"       c       r       e       d       i       t       _       i       d       \\\"       :       \\\"       5       3       e       2       a       a       a       b       c       3       a       3       6       8       4       8       4       a       0       0       1       1       c       4       \\\"       ,       \\\"       g       e       n       d       e       r       \\\"       :       2       ,       \\\"       i       d       \\\"       :       1       3       9       5       0       ,       \\\"       n       a       m       e       \\\"       :       \\\"       g       o       r       d       o       n       p       i       n       s       e       n       t       \\\"       ,       \\\"       o       r       d       e       r       \\\"       :       7       }       ,       {       \\\"       c       a       s       t       _       i       d       \\\"       :       1       6       ,       \\\"       c       h       a       r       a       c       t       e       r       \\\"       :       \\\"       d       e       n       n       i       s       b       u       g       g       i       t       \\\"       ,       \\\"       c       r       e       d       i       t       _       i       d       \\\"       :       \\\"       5       3       e       2       a       a       d       1       c       3       a       3       6       8       4       8       4       d       0       0       1       1       3       4       \\\"       ,       \\\"       g       e       n       d       e       r       \\\"       :       2       ,       \\\"       i       d       \\\"       :       2       0       3       8       6       ,       \\\"       n       a       m       e       \\\"       :       \\\"       j       a       s       o       n       b       e       h       r       \\\"       ,       \\\"       o       r       d       e       r       \\\"       :       8       }       ,       {       \\\"       c       a       s       t       _       i       d       \\\"       :       1       7       ,       \\\"       c       h       a       r       a       c       t       e       r       \\\"       :       \\\"       g       r       a       c       e       m       o       o       s       u       p       \\\"       ,       \\\"       c       r       e       d       i       t       _       i       d       \\\"       :       \\\"       5       3       e       2       a       b       2       0       c       3       a       3       6       8       4       8       4       a       0       0       1       1       c       d       \\\"       ,       \\\"       g       e       n       d       e       r       \\\"       :       1       ,       \\\"       i       d       \\\"       :       1       2       2       2       3       1       ,       \\\"       n       a       m       e       \\\"       :       \\\"       k       a       t       h       e       r       i       n       e       m       o       e       n       n       i       g       \\\"       ,       \\\"       o       r       d       e       r       \\\"       :       9       }       ,       {       \\\"       c       a       s       t       _       i       d       \\\"       :       1       8       ,       \\\"       c       h       a       r       a       c       t       e       r       \\\"       :       \\\"       b       a       y       o       n       e       t       m       e       l       v       i       l       l       e       \\\"       ,       \\\"       c       r       e       d       i       t       _       i       d       \\\"       :       \\\"       5       3       e       2       a       b       7       4       c       3       a       3       6       8       4       8       5       0       0       0       1       0       e       8       \\\"       ,       \\\"       g       e       n       d       e       r       \\\"       :       2       ,       \\\"       i       d       \\\"       :       1       9       5       1       1       ,       \\\"       n       a       m       e       \\\"       :       \\\"       l       a       r       r       y       p       i       n       e       \\\"       ,       \\\"       o       r       d       e       r       \\\"       :       1       0       }       ,       {       \\\"       c       a       s       t       _       i       d       \\\"       :       1       9       ,       \\\"       c       h       a       r       a       c       t       e       r       \\\"       :       \\\"       s       i       l       v       e       r       m       e       l       v       i       l       l       e       \\\"       ,       \\\"       c       r       e       d       i       t       _       i       d       \\\"       :       \\\"       5       4       2       f       5       c       0       8       c       3       a       3       6       8       6       8       6       2       0       0       0       a       d       6       \\\"       ,       \\\"       g       e       n       d       e       r       \\\"       :       1       ,       \\\"       i       d       \\\"       :       2       8       4       2       ,       \\\"       n       a       m       e       \\\"       :       \\\"       j       e       a       n       n       e       t       t       a       a       r       n       e       t       t       e       \\\"       ,       \\\"       o       r       d       e       r       \\\"       :       1       1       }       ]       l   a   s   s   e   h   a   l   l   s   t   r   \\u00f6   m\",\n          \"s   l   a   k   e       a       t   h   i   r   s   t       f   o   r       d   a   n   g   e   r       g   a   m   e   s   ,       k   a   t   h   r   y   n       c   h   a   l   l   e   n   g       h   e   r       s   t   e   p   b   r   o   t   h   e   r   ,       s   e   b   a   s   t   i   a   n   ,       t   o       d   e   f   l   o   w       t   h   e   i   r       h   e   a   d   m   a   s   t   e   r   '       d   a   u   g   h   t   e   r       b   e   f   o   r       t   h   e       s   u   m   m   e   r       e   n   d   s   .       i   f       h   e       s   u   c   c   e   e   d   s   ,       t   h   e       p   r   i   z   e       i   s       t   h   e       c   h   a   n   c       t   o       b   e   d       k   a   t   h   r   y   n   .       b   u   t       i   f       h   e       l   o   s   e   s   ,       k   a   t   h   r   y   n       w   i   l   l       c   l   a   i   m       h   i       m   o   s   t       p   r   i   z   e       p   o   s   s   e   s   s   i   o   n   .       d   r   a   m   a       r   o   m   a   n   c       t   h   r   i   l   l   e   r       u   p   p   e   r   c   l   a   s   s       s   e   x   u   a   l   o   b   s   e   s   s       s   e   x       b   e   t       s   a   d   i   s   t       d   r   u   g   a   b   u   s       b   r   o   t   h   e   r   s   i   s   t   e   r   r   e   l   a   t   i   o   n   s   h   i   p       c   y   n   i   c       c   o   c   a   i   n       v   i   r   g   i   n       m   a   n   i   p   u   l       s   e   d   u   c   t       l   o   v   e   l   e   t   t       p   r   i   v   a   t   e   s   c   h   o   o   l       i   n   n   o   c       a   d   d   i   c   t       l   o   v   e       p   s   y   c   h   o   t   h   e   r   a   p   i       [       {       \\\"       c       a       s       t       _       i       d       \\\"       :       1       ,       \\\"       c       h       a       r       a       c       t       e       r       \\\"       :       \\\"       k       a       t       h       r       y       n       m       e       r       t       e       u       i       l       \\\"       ,       \\\"       c       r       e       d       i       t       _       i       d       \\\"       :       \\\"       5       2       f       e       4       2       7       7       c       3       a       3       6       8       4       7       f       8       0       2       1       0       0       3       \\\"       ,       \\\"       g       e       n       d       e       r       \\\"       :       1       ,       \\\"       i       d       \\\"       :       1       1       8       6       3       ,       \\\"       n       a       m       e       \\\"       :       \\\"       s       a       r       a       h       m       i       c       h       e       l       l       e       g       e       l       l       a       r       \\\"       ,       \\\"       o       r       d       e       r       \\\"       :       0       }       ,       {       \\\"       c       a       s       t       _       i       d       \\\"       :       2       ,       \\\"       c       h       a       r       a       c       t       e       r       \\\"       :       \\\"       s       e       b       a       s       t       i       a       n       v       a       l       m       o       n       t       \\\"       ,       \\\"       c       r       e       d       i       t       _       i       d       \\\"       :       \\\"       5       2       f       e       4       2       7       7       c       3       a       3       6       8       4       7       f       8       0       2       1       0       0       7       \\\"       ,       \\\"       g       e       n       d       e       r       \\\"       :       2       ,       \\\"       i       d       \\\"       :       1       1       8       6       4       ,       \\\"       n       a       m       e       \\\"       :       \\\"       r       y       a       n       p       h       i       l       l       i       p       p       e       \\\"       ,       \\\"       o       r       d       e       r       \\\"       :       1       }       ,       {       \\\"       c       a       s       t       _       i       d       \\\"       :       3       ,       \\\"       c       h       a       r       a       c       t       e       r       \\\"       :       \\\"       a       n       n       e       t       t       e       h       a       r       g       r       o       v       e       \\\"       ,       \\\"       c       r       e       d       i       t       _       i       d       \\\"       :       \\\"       5       2       f       e       4       2       7       7       c       3       a       3       6       8       4       7       f       8       0       2       1       0       0       b       \\\"       ,       \\\"       g       e       n       d       e       r       \\\"       :       1       ,       \\\"       i       d       \\\"       :       3       6       8       ,       \\\"       n       a       m       e       \\\"       :       \\\"       r       e       e       s       e       w       i       t       h       e       r       s       p       o       o       n       \\\"       ,       \\\"       o       r       d       e       r       \\\"       :       2       }       ,       {       \\\"       c       a       s       t       _       i       d       \\\"       :       4       ,       \\\"       c       h       a       r       a       c       t       e       r       \\\"       :       \\\"       c       e       c       i       l       e       c       a       l       d       w       e       l       l       \\\"       ,       \\\"       c       r       e       d       i       t       _       i       d       \\\"       :       \\\"       5       2       f       e       4       2       7       7       c       3       a       3       6       8       4       7       f       8       0       2       1       0       0       f       \\\"       ,       \\\"       g       e       n       d       e       r       \\\"       :       1       ,       \\\"       i       d       \\\"       :       1       1       8       2       6       ,       \\\"       n       a       m       e       \\\"       :       \\\"       s       e       l       m       a       b       l       a       i       r       \\\"       ,       \\\"       o       r       d       e       r       \\\"       :       3       }       ,       {       \\\"       c       a       s       t       _       i       d       \\\"       :       5       ,       \\\"       c       h       a       r       a       c       t       e       r       \\\"       :       \\\"       h       e       l       e       n       r       o       s       e       m       o       n       d       \\\"       ,       \\\"       c       r       e       d       i       t       _       i       d       \\\"       :       \\\"       5       2       f       e       4       2       7       7       c       3       a       3       6       8       4       7       f       8       0       2       1       0       1       3       \\\"       ,       \\\"       g       e       n       d       e       r       \\\"       :       1       ,       \\\"       i       d       \\\"       :       7       0       7       1       ,       \\\"       n       a       m       e       \\\"       :       \\\"       l       o       u       i       s       e       f       l       e       t       c       h       e       r       \\\"       ,       \\\"       o       r       d       e       r       \\\"       :       4       }       ,       {       \\\"       c       a       s       t       _       i       d       \\\"       :       6       ,       \\\"       c       h       a       r       a       c       t       e       r       \\\"       :       \\\"       b       l       a       i       n       e       t       u       t       t       l       e       \\\"       ,       \\\"       c       r       e       d       i       t       _       i       d       \\\"       :       \\\"       5       2       f       e       4       2       7       7       c       3       a       3       6       8       4       7       f       8       0       2       1       0       1       7       \\\"       ,       \\\"       g       e       n       d       e       r       \\\"       :       2       ,       \\\"       i       d       \\\"       :       1       1       8       6       6       ,       \\\"       n       a       m       e       \\\"       :       \\\"       j       o       s       h       u       a       j       a       c       k       s       o       n       \\\"       ,       \\\"       o       r       d       e       r       \\\"       :       5       }       ,       {       \\\"       c       a       s       t       _       i       d       \\\"       :       7       ,       \\\"       c       h       a       r       a       c       t       e       r       \\\"       :       \\\"       g       r       e       g       m       c       c       o       n       n       e       l       l       \\\"       ,       \\\"       c       r       e       d       i       t       _       i       d       \\\"       :       \\\"       5       2       f       e       4       2       7       7       c       3       a       3       6       8       4       7       f       8       0       2       1       0       1       b       \\\"       ,       \\\"       g       e       n       d       e       r       \\\"       :       2       ,       \\\"       i       d       \\\"       :       1       1       8       6       7       ,       \\\"       n       a       m       e       \\\"       :       \\\"       e       r       i       c       m       a       b       i       u       s       \\\"       ,       \\\"       o       r       d       e       r       \\\"       :       6       }       ,       {       \\\"       c       a       s       t       _       i       d       \\\"       :       8       ,       \\\"       c       h       a       r       a       c       t       e       r       \\\"       :       \\\"       r       o       n       a       l       d       c       l       i       f       f       o       r       d       \\\"       ,       \\\"       c       r       e       d       i       t       _       i       d       \\\"       :       \\\"       5       2       f       e       4       2       7       7       c       3       a       3       6       8       4       7       f       8       0       2       1       0       1       f       \\\"       ,       \\\"       g       e       n       d       e       r       \\\"       :       2       ,       \\\"       i       d       \\\"       :       1       1       8       6       8       ,       \\\"       n       a       m       e       \\\"       :       \\\"       s       e       a       n       p       a       t       r       i       c       k       t       h       o       m       a       s       \\\"       ,       \\\"       o       r       d       e       r       \\\"       :       7       }       ,       {       \\\"       c       a       s       t       _       i       d       \\\"       :       1       0       ,       \\\"       c       h       a       r       a       c       t       e       r       \\\"       :       \\\"       b       u       n       n       y       c       a       l       d       w       e       l       l       \\\"       ,       \\\"       c       r       e       d       i       t       _       i       d       \\\"       :       \\\"       5       2       f       e       4       2       7       7       c       3       a       3       6       8       4       7       f       8       0       2       1       0       2       3       \\\"       ,       \\\"       g       e       n       d       e       r       \\\"       :       1       ,       \\\"       i       d       \\\"       :       1       1       8       7       0       ,       \\\"       n       a       m       e       \\\"       :       \\\"       c       h       r       i       s       t       i       n       e       b       a       r       a       n       s       k       i       \\\"       ,       \\\"       o       r       d       e       r       \\\"       :       8       }       ,       {       \\\"       c       a       s       t       _       i       d       \\\"       :       1       1       ,       \\\"       c       h       a       r       a       c       t       e       r       \\\"       :       \\\"       n       u       r       s       e       \\\"       ,       \\\"       c       r       e       d       i       t       _       i       d       \\\"       :       \\\"       5       2       f       e       4       2       7       7       c       3       a       3       6       8       4       7       f       8       0       2       1       0       2       7       \\\"       ,       \\\"       g       e       n       d       e       r       \\\"       :       1       ,       \\\"       i       d       \\\"       :       1       1       8       7       1       ,       \\\"       n       a       m       e       \\\"       :       \\\"       a       l       a       i       n       a       r       e       e       d       h       a       l       l       \\\"       ,       \\\"       o       r       d       e       r       \\\"       :       9       }       ,       {       \\\"       c       a       s       t       _       i       d       \\\"       :       1       2       ,       \\\"       c       h       a       r       a       c       t       e       r       \\\"       :       \\\"       m       r       s       .       m       i       c       h       a       l       a       k       \\\"       ,       \\\"       c       r       e       d       i       t       _       i       d       \\\"       :       \\\"       5       2       f       e       4       2       7       7       c       3       a       3       6       8       4       7       f       8       0       2       1       0       2       b       \\\"       ,       \\\"       g       e       n       d       e       r       \\\"       :       1       ,       \\\"       i       d       \\\"       :       1       1       8       7       2       ,       \\\"       n       a       m       e       \\\"       :       \\\"       d       e       b       o       r       a       h       o       f       f       n       e       r       \\\"       ,       \\\"       o       r       d       e       r       \\\"       :       1       0       }       ,       {       \\\"       c       a       s       t       _       i       d       \\\"       :       1       3       ,       \\\"       c       h       a       r       a       c       t       e       r       \\\"       :       \\\"       m       a       r       c       i       g       r       e       e       n       b       a       u       m       \\\"       ,       \\\"       c       r       e       d       i       t       _       i       d       \\\"       :       \\\"       5       2       f       e       4       2       7       7       c       3       a       3       6       8       4       7       f       8       0       2       1       0       2       f       \\\"       ,       \\\"       g       e       n       d       e       r       \\\"       :       1       ,       \\\"       i       d       \\\"       :       1       2       3       4       ,       \\\"       n       a       m       e       \\\"       :       \\\"       t       a       r       a       r       e       i       d       \\\"       ,       \\\"       o       r       d       e       r       \\\"       :       1       1       }       ,       {       \\\"       c       a       s       t       _       i       d       \\\"       :       2       4       ,       \\\"       c       h       a       r       a       c       t       e       r       \\\"       :       \\\"       d       r       .       g       r       e       e       n       b       a       u       m       \\\"       ,       \\\"       c       r       e       d       i       t       _       i       d       \\\"       :       \\\"       5       2       f       e       4       2       7       7       c       3       a       3       6       8       4       7       f       8       0       2       1       0       6       9       \\\"       ,       \\\"       g       e       n       d       e       r       \\\"       :       1       ,       \\\"       i       d       \\\"       :       1       2       9       6       7       ,       \\\"       n       a       m       e       \\\"       :       \\\"       s       w       o       o       s       i       e       k       u       r       t       z       \\\"       ,       \\\"       o       r       d       e       r       \\\"       :       1       2       }       ,       {       \\\"       c       a       s       t       _       i       d       \\\"       :       2       6       ,       \\\"       c       h       a       r       a       c       t       e       r       \\\"       :       \\\"       m       r       s       .       s       u       g       a       r       m       a       n       \\\"       ,       \\\"       c       r       e       d       i       t       _       i       d       \\\"       :       \\\"       5       4       8       9       9       b       9       c       9       2       5       1       4       1       6       1       d       0       0       0       1       7       1       7       \\\"       ,       \\\"       g       e       n       d       e       r       \\\"       :       1       ,       \\\"       i       d       \\\"       :       1       3       6       4       8       2       ,       \\\"       n       a       m       e       \\\"       :       \\\"       h       e       r       t       a       w       a       r       e       \\\"       ,       \\\"       o       r       d       e       r       \\\"       :       1       3       }       ,       {       \\\"       c       a       s       t       _       i       d       \\\"       :       2       7       ,       \\\"       c       h       a       r       a       c       t       e       r       \\\"       :       \\\"       m       a       i       -       l       e       e       \\\"       ,       \\\"       c       r       e       d       i       t       _       i       d       \\\"       :       \\\"       5       4       8       9       9       b       b       1       9       2       5       1       4       1       6       1       d       c       0       0       1       7       a       9       \\\"       ,       \\\"       g       e       n       d       e       r       \\\"       :       1       ,       \\\"       i       d       \\\"       :       1       6       7       1       6       6       ,       \\\"       n       a       m       e       \\\"       :       \\\"       h       i       e       p       t       h       i       l       e       \\\"       ,       \\\"       o       r       d       e       r       \\\"       :       1       4       }       ,       {       \\\"       c       a       s       t       _       i       d       \\\"       :       2       8       ,       \\\"       c       h       a       r       a       c       t       e       r       \\\"       :       \\\"       c       o       u       r       t       r       e       y       n       o       l       d       s       \\\"       ,       \\\"       c       r       e       d       i       t       _       i       d       \\\"       :       \\\"       5       4       8       9       9       b       b       c       9       2       5       1       4       1       6       1       d       5       0       0       1       7       7       e       \\\"       ,       \\\"       g       e       n       d       e       r       \\\"       :       2       ,       \\\"       i       d       \\\"       :       1       2       9       1       2       2       ,       \\\"       n       a       m       e       \\\"       :       \\\"       c       h       a       r       l       i       e       o       '       c       o       n       n       e       l       l       \\\"       ,       \\\"       o       r       d       e       r       \\\"       :       1       5       }       ,       {       \\\"       c       a       s       t       _       i       d       \\\"       :       2       9       ,       \\\"       c       h       a       r       a       c       t       e       r       \\\"       :       \\\"       m       e       t       e       r       m       a       i       d       \\\"       ,       \\\"       c       r       e       d       i       t       _       i       d       \\\"       :       \\\"       5       4       8       9       9       b       f       4       c       3       a       3       6       8       6       f       5       8       0       0       1       7       8       2       \\\"       ,       \\\"       g       e       n       d       e       r       \\\"       :       2       ,       \\\"       i       d       \\\"       :       1       0       4       9       2       0       8       ,       \\\"       n       a       m       e       \\\"       :       \\\"       f       r       e       d       n       o       r       r       i       s       \\\"       ,       \\\"       o       r       d       e       r       \\\"       :       1       6       }       ,       {       \\\"       c       a       s       t       _       i       d       \\\"       :       3       0       ,       \\\"       c       h       a       r       a       c       t       e       r       \\\"       :       \\\"       c       l       o       r       i       s       s       a       \\\"       ,       \\\"       c       r       e       d       i       t       _       i       d       \\\"       :       \\\"       5       4       8       9       9       b       f       e       9       2       5       1       4       1       6       1       d       5       0       0       1       7       8       6       \\\"       ,       \\\"       g       e       n       d       e       r       \\\"       :       0       ,       \\\"       i       d       \\\"       :       1       3       9       5       9       1       1       ,       \\\"       n       a       m       e       \\\"       :       \\\"       g       i       n       g       e       r       w       i       l       l       i       a       m       s       \\\"       ,       \\\"       o       r       d       e       r       \\\"       :       1       7       }       ,       {       \\\"       c       a       s       t       _       i       d       \\\"       :       3       1       ,       \\\"       c       h       a       r       a       c       t       e       r       \\\"       :       \\\"       h       e       a       d       m       a       s       t       e       r       h       a       r       g       r       o       v       e       \\\"       ,       \\\"       c       r       e       d       i       t       _       i       d       \\\"       :       \\\"       5       4       8       9       9       c       0       b       9       2       5       1       4       1       6       1       c       c       0       0       1       7       1       f       \\\"       ,       \\\"       g       e       n       d       e       r       \\\"       :       2       ,       \\\"       i       d       \\\"       :       5       2       1       8       8       ,       \\\"       n       a       m       e       \\\"       :       \\\"       d       r       e       w       s       n       y       d       e       r       \\\"       ,       \\\"       o       r       d       e       r       \\\"       :       1       8       }       ,       {       \\\"       c       a       s       t       _       i       d       \\\"       :       3       2       ,       \\\"       c       h       a       r       a       c       t       e       r       \\\"       :       \\\"       \\\"       ,       \\\"       c       r       e       d       i       t       _       i       d       \\\"       :       \\\"       5       4       8       9       9       c       1       7       9       2       5       1       4       1       6       1       d       3       0       0       1       7       7       3       \\\"       ,       \\\"       g       e       n       d       e       r       \\\"       :       0       ,       \\\"       i       d       \\\"       :       9       4       5       6       1       ,       \\\"       n       a       m       e       \\\"       :       \\\"       p       h       i       l       h       a       w       n       \\\"       ,       \\\"       o       r       d       e       r       \\\"       :       1       9       }       ]       r   o   g   e   r   k   u   m   b   l\",\n          \"c   o   m   b   a   t       h   a       t   a   k   e   n       i   t       t   o   l   l       o   n       r   a   m   b   o   ,       b   u   t       h   e   '       f   i   n   a   l       b   e   g   u   n       t   o       f   i   n   d       i   n   n   e   r       p   e   a   c       i   n       a       m   o   n   a   s   t   e   r   y   .       w   h   e   n       r   a   m   b   o   '       f   r   i   e   n   d       a   n   d       m   e   n   t   o   r       c   o   l   .       t   r   a   u   t   m   a   n       a   s   k       f   o   r       h   i       h   e   l   p       o   n       a       t   o   p       s   e   c   r   e   t       m   i   s   s   i   o   n       t   o       a   f   g   h   a   n   i   s   t   a   n   ,       r   a   m   b   o       d   e   c   l   i   n       b   u   t       m   u   s   t       r   e   c   o   n   s   i   d       w   h   e   n       t   r   a   u   t   m   a   n       i   s       c   a   p   t   u   r   e   d   .       a   c   t   i   o   n       a   d   v   e   n   t   u   r       t   h   r   i   l   l   e   r       w   a   r       c   o   m   p   e   t   i   t       s   u   b   m   a   c   h   i   n   e   g   u   n       s   o   v   i   e   t   u   n   i   o   n       l   i   b   e   r       r   u   s   s   i   a   n       s   o   v   i   e   t   t   r   o   o   p       t   h   a   i   l   a   n   d       f   r   e   e   d   o   m   f   i   g   h   t       a   f   g   h   a   n   i   s   t   a   n       w   a   r   o   n   f   r   e   e   d   o   m       m   a   c   h   i   n   e   g   u   n       m   u   j   a   h   i   d       r   e   a   l   i   t   y   s   h   o   w       w   e   s   t   e   r   n       j   a   p   a   n   e   s   e   f   o   o   d       s   o   a   p   o   p   e   r   a       [       {       \\\"       c       a       s       t       _       i       d       \\\"       :       2       5       ,       \\\"       c       h       a       r       a       c       t       e       r       \\\"       :       \\\"       r       a       m       b       o       \\\"       ,       \\\"       c       r       e       d       i       t       _       i       d       \\\"       :       \\\"       5       2       f       e       4       2       f       0       c       3       a       3       6       8       4       7       f       8       0       2       e       4       3       f       \\\"       ,       \\\"       g       e       n       d       e       r       \\\"       :       2       ,       \\\"       i       d       \\\"       :       1       6       4       8       3       ,       \\\"       n       a       m       e       \\\"       :       \\\"       s       y       l       v       e       s       t       e       r       s       t       a       l       l       o       n       e       \\\"       ,       \\\"       o       r       d       e       r       \\\"       :       0       }       ,       {       \\\"       c       a       s       t       _       i       d       \\\"       :       2       6       ,       \\\"       c       h       a       r       a       c       t       e       r       \\\"       :       \\\"       t       r       a       u       t       m       a       n       \\\"       ,       \\\"       c       r       e       d       i       t       _       i       d       \\\"       :       \\\"       5       2       f       e       4       2       f       0       c       3       a       3       6       8       4       7       f       8       0       2       e       4       4       3       \\\"       ,       \\\"       g       e       n       d       e       r       \\\"       :       2       ,       \\\"       i       d       \\\"       :       1       6       5       5       4       ,       \\\"       n       a       m       e       \\\"       :       \\\"       r       i       c       h       a       r       d       c       r       e       n       n       a       \\\"       ,       \\\"       o       r       d       e       r       \\\"       :       1       }       ,       {       \\\"       c       a       s       t       _       i       d       \\\"       :       2       8       ,       \\\"       c       h       a       r       a       c       t       e       r       \\\"       :       \\\"       g       r       i       g       g       s       \\\"       ,       \\\"       c       r       e       d       i       t       _       i       d       \\\"       :       \\\"       5       2       f       e       4       2       f       0       c       3       a       3       6       8       4       7       f       8       0       2       e       4       4       7       \\\"       ,       \\\"       g       e       n       d       e       r       \\\"       :       2       ,       \\\"       i       d       \\\"       :       2       1       1       5       ,       \\\"       n       a       m       e       \\\"       :       \\\"       k       u       r       t       w       o       o       d       s       m       i       t       h       \\\"       ,       \\\"       o       r       d       e       r       \\\"       :       3       }       ,       {       \\\"       c       a       s       t       _       i       d       \\\"       :       2       9       ,       \\\"       c       h       a       r       a       c       t       e       r       \\\"       :       \\\"       m       a       s       o       u       d       \\\"       ,       \\\"       c       r       e       d       i       t       _       i       d       \\\"       :       \\\"       5       2       f       e       4       2       f       0       c       3       a       3       6       8       4       7       f       8       0       2       e       4       4       b       \\\"       ,       \\\"       g       e       n       d       e       r       \\\"       :       0       ,       \\\"       i       d       \\\"       :       6       7       8       3       ,       \\\"       n       a       m       e       \\\"       :       \\\"       s       p       i       r       o       s       f       o       c       \\\\       u       0       0       e       1       s       \\\"       ,       \\\"       o       r       d       e       r       \\\"       :       4       }       ,       {       \\\"       c       a       s       t       _       i       d       \\\"       :       3       0       ,       \\\"       c       h       a       r       a       c       t       e       r       \\\"       :       \\\"       m       o       u       s       a       \\\"       ,       \\\"       c       r       e       d       i       t       _       i       d       \\\"       :       \\\"       5       2       f       e       4       2       f       0       c       3       a       3       6       8       4       7       f       8       0       2       e       4       4       f       \\\"       ,       \\\"       g       e       n       d       e       r       \\\"       :       2       ,       \\\"       i       d       \\\"       :       1       6       6       0       4       ,       \\\"       n       a       m       e       \\\"       :       \\\"       s       a       s       s       o       n       g       a       b       a       i       \\\"       ,       \\\"       o       r       d       e       r       \\\"       :       5       }       ,       {       \\\"       c       a       s       t       _       i       d       \\\"       :       3       1       ,       \\\"       c       h       a       r       a       c       t       e       r       \\\"       :       \\\"       h       a       m       i       d       \\\"       ,       \\\"       c       r       e       d       i       t       _       i       d       \\\"       :       \\\"       5       2       f       e       4       2       f       0       c       3       a       3       6       8       4       7       f       8       0       2       e       4       5       3       \\\"       ,       \\\"       g       e       n       d       e       r       \\\"       :       0       ,       \\\"       i       d       \\\"       :       1       6       6       0       5       ,       \\\"       n       a       m       e       \\\"       :       \\\"       d       o       u       d       i       s       h       o       u       a       \\\"       ,       \\\"       o       r       d       e       r       \\\"       :       6       }       ,       {       \\\"       c       a       s       t       _       i       d       \\\"       :       3       2       ,       \\\"       c       h       a       r       a       c       t       e       r       \\\"       :       \\\"       k       o       u       r       o       v       \\\"       ,       \\\"       c       r       e       d       i       t       _       i       d       \\\"       :       \\\"       5       2       f       e       4       2       f       0       c       3       a       3       6       8       4       7       f       8       0       2       e       4       5       7       \\\"       ,       \\\"       g       e       n       d       e       r       \\\"       :       2       ,       \\\"       i       d       \\\"       :       1       6       6       0       6       ,       \\\"       n       a       m       e       \\\"       :       \\\"       r       a       n       d       y       r       a       n       e       y       \\\"       ,       \\\"       o       r       d       e       r       \\\"       :       7       }       ,       {       \\\"       c       a       s       t       _       i       d       \\\"       :       3       3       ,       \\\"       c       h       a       r       a       c       t       e       r       \\\"       :       \\\"       t       o       m       a       s       k       \\\"       ,       \\\"       c       r       e       d       i       t       _       i       d       \\\"       :       \\\"       5       2       f       e       4       2       f       0       c       3       a       3       6       8       4       7       f       8       0       2       e       4       5       b       \\\"       ,       \\\"       g       e       n       d       e       r       \\\"       :       2       ,       \\\"       i       d       \\\"       :       1       1       7       6       3       ,       \\\"       n       a       m       e       \\\"       :       \\\"       m       a       r       c       u       s       g       i       l       b       e       r       t       \\\"       ,       \\\"       o       r       d       e       r       \\\"       :       8       }       ,       {       \\\"       c       a       s       t       _       i       d       \\\"       :       3       4       ,       \\\"       c       h       a       r       a       c       t       e       r       \\\"       :       \\\"       n       i       s       s       e       m       \\\"       ,       \\\"       c       r       e       d       i       t       _       i       d       \\\"       :       \\\"       5       2       f       e       4       2       f       0       c       3       a       3       6       8       4       7       f       8       0       2       e       4       5       f       \\\"       ,       \\\"       g       e       n       d       e       r       \\\"       :       2       ,       \\\"       i       d       \\\"       :       1       6       6       0       7       ,       \\\"       n       a       m       e       \\\"       :       \\\"       a       l       o       n       a       b       o       u       t       b       o       u       l       \\\"       ,       \\\"       o       r       d       e       r       \\\"       :       9       }       ,       {       \\\"       c       a       s       t       _       i       d       \\\"       :       3       5       ,       \\\"       c       h       a       r       a       c       t       e       r       \\\"       :       \\\"       r       a       h       i       m       \\\"       ,       \\\"       c       r       e       d       i       t       _       i       d       \\\"       :       \\\"       5       2       f       e       4       2       f       0       c       3       a       3       6       8       4       7       f       8       0       2       e       4       6       3       \\\"       ,       \\\"       g       e       n       d       e       r       \\\"       :       0       ,       \\\"       i       d       \\\"       :       1       6       6       0       8       ,       \\\"       n       a       m       e       \\\"       :       \\\"       m       a       h       m       o       u       d       a       s       s       a       d       o       l       l       a       h       i       \\\"       ,       \\\"       o       r       d       e       r       \\\"       :       1       0       }       ,       {       \\\"       c       a       s       t       _       i       d       \\\"       :       3       6       ,       \\\"       c       h       a       r       a       c       t       e       r       \\\"       :       \\\"       k       h       a       l       i       d       \\\"       ,       \\\"       c       r       e       d       i       t       _       i       d       \\\"       :       \\\"       5       2       f       e       4       2       f       0       c       3       a       3       6       8       4       7       f       8       0       2       e       4       6       7       \\\"       ,       \\\"       g       e       n       d       e       r       \\\"       :       0       ,       \\\"       i       d       \\\"       :       1       6       6       0       9       ,       \\\"       n       a       m       e       \\\"       :       \\\"       j       o       s       e       p       h       s       h       i       l       o       a       c       h       \\\"       ,       \\\"       o       r       d       e       r       \\\"       :       1       1       }       ,       {       \\\"       c       a       s       t       _       i       d       \\\"       :       3       7       ,       \\\"       c       h       a       r       a       c       t       e       r       \\\"       :       \\\"       s       t       i       c       k       f       i       g       h       t       e       r       \\\"       ,       \\\"       c       r       e       d       i       t       _       i       d       \\\"       :       \\\"       5       2       f       e       4       2       f       0       c       3       a       3       6       8       4       7       f       8       0       2       e       4       6       b       \\\"       ,       \\\"       g       e       n       d       e       r       \\\"       :       2       ,       \\\"       i       d       \\\"       :       1       6       6       1       0       ,       \\\"       n       a       m       e       \\\"       :       \\\"       h       a       r       o       l       d       d       i       a       m       o       n       d       \\\"       ,       \\\"       o       r       d       e       r       \\\"       :       1       2       }       ,       {       \\\"       c       a       s       t       _       i       d       \\\"       :       3       8       ,       \\\"       c       h       a       r       a       c       t       e       r       \\\"       :       \\\"       g       u       n       d       e       a       l       e       r       \\\"       ,       \\\"       c       r       e       d       i       t       _       i       d       \\\"       :       \\\"       5       2       f       e       4       2       f       0       c       3       a       3       6       8       4       7       f       8       0       2       e       4       6       f       \\\"       ,       \\\"       g       e       n       d       e       r       \\\"       :       0       ,       \\\"       i       d       \\\"       :       1       6       6       1       1       ,       \\\"       n       a       m       e       \\\"       :       \\\"       m       a       t       t       i       s       e       r       i       \\\"       ,       \\\"       o       r       d       e       r       \\\"       :       1       3       }       ,       {       \\\"       c       a       s       t       _       i       d       \\\"       :       3       9       ,       \\\"       c       h       a       r       a       c       t       e       r       \\\"       :       \\\"       u       r       i       \\\"       ,       \\\"       c       r       e       d       i       t       _       i       d       \\\"       :       \\\"       5       2       f       e       4       2       f       0       c       3       a       3       6       8       4       7       f       8       0       2       e       4       7       3       \\\"       ,       \\\"       g       e       n       d       e       r       \\\"       :       0       ,       \\\"       i       d       \\\"       :       1       6       6       1       2       ,       \\\"       n       a       m       e       \\\"       :       \\\"       s       h       a       b       y       b       e       n       -       a       r       o       y       a       \\\"       ,       \\\"       o       r       d       e       r       \\\"       :       1       4       }       ,       {       \\\"       c       a       s       t       _       i       d       \\\"       :       4       2       ,       \\\"       c       h       a       r       a       c       t       e       r       \\\"       :       \\\"       z       a       y       s       e       n       \\\"       ,       \\\"       c       r       e       d       i       t       _       i       d       \\\"       :       \\\"       5       2       f       e       4       2       f       0       c       3       a       3       6       8       4       7       f       8       0       2       e       4       8       3       \\\"       ,       \\\"       g       e       n       d       e       r       \\\"       :       2       ,       \\\"       i       d       \\\"       :       2       5       5       9       2       3       ,       \\\"       n       a       m       e       \\\"       :       \\\"       m       a       r       c       d       e       j       o       n       g       e       \\\"       ,       \\\"       o       r       d       e       r       \\\"       :       1       5       }       ,       {       \\\"       c       a       s       t       _       i       d       \\\"       :       4       3       ,       \\\"       c       h       a       r       a       c       t       e       r       \\\"       :       \\\"       h       e       l       i       c       o       p       t       e       r       p       e       r       s       o       n       \\\"       ,       \\\"       c       r       e       d       i       t       _       i       d       \\\"       :       \\\"       5       9       1       3       c       2       e       1       9       2       5       1       4       1       5       8       3       c       0       0       2       e       5       5       \\\"       ,       \\\"       g       e       n       d       e       r       \\\"       :       0       ,       \\\"       i       d       \\\"       :       1       1       5       6       4       3       6       ,       \\\"       n       a       m       e       \\\"       :       \\\"       t       i       k       v       a       a       z       i       z       \\\"       ,       \\\"       o       r       d       e       r       \\\"       :       1       6       }       ]       p   e   t   e   r   m   a   c   d   o   n   a   l   d\"\n        ],\n        \"semantic_type\": \"\",\n        \"description\": \"\"\n      }\n    }\n  ]\n}"
            }
          },
          "metadata": {},
          "execution_count": 53
        }
      ]
    }
  ]
}